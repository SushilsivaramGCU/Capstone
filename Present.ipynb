{
 "cells": [
  {
   "cell_type": "markdown",
   "metadata": {},
   "source": [
    "#!/usr/bin/env python\n",
    "\n",
    "__author__ = \"Sushil Sivaram, Megha Gubbala\", \"Sylvia Nanyangwe\"\n",
    "__copyright__ = \"N/A\"\n",
    "__credits__ = [\"Isac Artzi\", \"Dinesh Sthapit\", \"Ken Ferrell\", \"James Dzikunu\", \"Tracy Roth\", \"Renee Morales\"]\n",
    "__license__ = \"ECL\"\n",
    "__maintainer__ = \"Sushil Sivaram, Megha Gubbala\", \"Sylvia Nanyangwe\"\n",
    "__email__ = \"SushilSivaram@gmail.com\"\n",
    "__status__ = \"Development\""
   ]
  },
  {
   "cell_type": "code",
   "execution_count": 37,
   "metadata": {},
   "outputs": [],
   "source": [
    "\n",
    "from scipy import stats\n",
    "import pandas as pd\n",
    "import numpy as np\n",
    "import os\n",
    "from dotenv import load_dotenv\n",
    "from sklearn import svm\n",
    "from sklearn.ensemble import RandomForestClassifier\n",
    "from sklearn.metrics import confusion_matrix, classification_report, accuracy_score\n",
    "from sklearn.model_selection import train_test_split\n",
    "from sklearn.neural_network import MLPClassifier\n",
    "from sklearn.preprocessing import LabelEncoder, StandardScaler\n",
    "from yellowbrick.features import Rank2D\n",
    "from yellowbrick.target import ClassBalance\n",
    "from yellowbrick.classifier import ConfusionMatrix\n",
    "from sklearn.naive_bayes import GaussianNB\n",
    "import matplotlib.pyplot as plt\n",
    "import scikitplot as skplt\n",
    "import warnings\n",
    "warnings.filterwarnings('ignore')"
   ]
  },
  {
   "cell_type": "code",
   "execution_count": null,
   "metadata": {},
   "outputs": [],
   "source": [
    "# Define Variables\n",
    "load_dotenv()\n",
    "#CSVData = os.getenv('CSVData')\n",
    "CSVData = os.getenv('CSVOriginal')\n",
    "DependentVariable = os.getenv('DependentVariable')\n",
    "head_Value = int(os.getenv('Head_Value'))\n",
    "testSize = float(os.getenv('test_size'))\n",
    "randomstate = int(os.getenv('random_state'))\n"
   ]
  },
  {
   "cell_type": "code",
   "execution_count": null,
   "metadata": {},
   "outputs": [],
   "source": [
    "\n",
    "'''\n",
    "Setup Reusable Functions\n",
    "'''\n",
    "\n",
    "# Load Data from CSV\n",
    "def loadAndExtractData():\n",
    "    global dataSetUp\n",
    "    global datasetupUnprocessed\n",
    "    dataSetUp = pd.read_csv(CSVData)\n",
    "    datasetupUnprocessed = dataSetUp\n",
    "    keepcolumns = ['cost_yr','median_income','affordability_ratio', 'ave_fam_size']\n",
    "    dataSetUp =dataSetUp.filter(keepcolumns)\n",
    "    for keep in keepcolumns:\n",
    "        dataSetUp = dataSetUp[dataSetUp[keep].notna()]\n",
    "    dataSetUp= dataSetUp[(np.abs(stats.zscore(dataSetUp)) < 3).all(axis=1)]\n",
    "    dataSetUp.to_csv('cleaned.csv', index=False)\n",
    "\n",
    "#print Info\n",
    "def showDataHeadAndInfo(headCount):\n",
    "    print(f\"showing head {headCount} values\")\n",
    "    print(datasetupUnprocessed.head(headCount))\n",
    "    print(\"**********\")\n",
    "    print(\"Showing info of dataset\")\n",
    "    print(datasetupUnprocessed.describe(include='all'))\n",
    "\n",
    "# preProcessing\n",
    "def preProcessing():\n",
    "    bins = (0, .2, 3)\n",
    "    group_names = ['Cant Afford', 'Can Afford']\n",
    "    dataSetUp[DependentVariable] = pd.cut(dataSetUp[DependentVariable], bins, labels=group_names)\n",
    "    dataSetUp.to_csv('test.csv')\n",
    "    label_quality = LabelEncoder()\n",
    "    dataSetUp[DependentVariable] = label_quality.fit_transform(dataSetUp[DependentVariable])\n",
    "    showDataHeadAndInfo(head_Value)\n",
    "    print(dataSetUp[DependentVariable].value_counts())\n",
    "   # plt.figure()\n",
    "   # sns.set_theme(style=\"darkgrid\")\n",
    "   # sns.countplot(y=dataSetUp[DependentVariable])\n",
    "\n",
    "#plotting\n",
    "def plotting(dataSetUp, state):\n",
    "    plt.figure()\n",
    "    histmedian_income = dataSetUp['median_income'].plot.hist(bins=25, grid=True, rwidth=0.9, color='#607c8e')\n",
    "    plt.title(f'Histogram of Median Income {state}')\n",
    "    plt.xlabel('Median Income in $')\n",
    "    plt.ylabel('Count')\n",
    "    plt.grid(axis='y', alpha=0.5)\n",
    "    histmedian_income.figure.savefig(f'.\\outputs\\histMedianIncome{state}.png')\n",
    "\n",
    "    plt.figure()\n",
    "    hist_avg_fam = dataSetUp['ave_fam_size'].plot.hist(bins=25,  grid=True, rwidth=0.9, color='#607c8e')\n",
    "    plt.title(f'Histogram of Family Size {state}')\n",
    "    plt.xlabel('Family Size')\n",
    "    plt.ylabel('Count')\n",
    "    plt.grid(axis='y', alpha=0.5)\n",
    "    hist_avg_fam.figure.savefig(f'.\\outputs\\histavgFamsize{state}.png')\n",
    "\n",
    "    plt.figure()\n",
    "    hist_Cost_yr = dataSetUp['cost_yr'].plot.hist(bins=25, grid=True, rwidth=0.9, color='#607c8e')\n",
    "    plt.title(f'Histogram of Yearly Cost of Food $ {state}')\n",
    "    plt.xlabel('Yearly Cost $')\n",
    "    plt.ylabel('Count')\n",
    "    plt.grid(axis='y', alpha=0.5)\n",
    "    hist_Cost_yr.figure.savefig(f'.\\outputs\\histCost{state}.png')\n",
    "\n",
    "    plt.figure()\n",
    "    scattermedian_income = dataSetUp.plot.scatter(c='DarkBlue', x='median_income', y = 'cost_yr' )\n",
    "    plt.title(f'scatterogram of Median Income vs Expenditure {state}')\n",
    "    plt.xlabel('Median Income in $')\n",
    "    plt.ylabel('cost_yr')\n",
    "    plt.grid(axis='y', alpha=0.5)\n",
    "    scattermedian_income.figure.savefig(f'.\\outputs\\scatterMedianIncomeVSExpenditure{state}.png')\n",
    "\n",
    "    plt.figure()\n",
    "    scattermedian_income = dataSetUp.plot.scatter(c='DarkBlue', x='ave_fam_size', y = 'cost_yr' )\n",
    "    plt.title(f'scatterogram of Family Size vs Expenditure {state}')\n",
    "    plt.xlabel('Family Size')\n",
    "    plt.ylabel('cost_yr')\n",
    "    plt.grid(axis='y', alpha=0.5)\n",
    "    scattermedian_income.figure.savefig(f'.\\outputs\\scatterFamSizeVSExpenditure{state}.png')\n",
    "    plt.show()\n",
    "\n",
    "\n"
   ]
  },
  {
   "cell_type": "code",
   "execution_count": null,
   "metadata": {},
   "outputs": [],
   "source": [
    "\n",
    "# Load Data from CSV\n",
    "loadAndExtractData()\n"
   ]
  },
  {
   "cell_type": "code",
   "execution_count": null,
   "metadata": {},
   "outputs": [],
   "source": [
    "\n",
    "# Print Info\n",
    "showDataHeadAndInfo(head_Value)\n"
   ]
  },
  {
   "cell_type": "code",
   "execution_count": null,
   "metadata": {},
   "outputs": [],
   "source": [
    "\n",
    "# Exploratory plotting\n",
    "plotting(datasetupUnprocessed , \"BeforeProcessing\")\n"
   ]
  },
  {
   "cell_type": "code",
   "execution_count": null,
   "metadata": {},
   "outputs": [],
   "source": [
    "\n",
    "# preProcessing\n",
    "preProcessing()\n"
   ]
  },
  {
   "cell_type": "code",
   "execution_count": null,
   "metadata": {},
   "outputs": [],
   "source": [
    "plotting(dataSetUp, \"PostProcessing\")"
   ]
  },
  {
   "cell_type": "code",
   "execution_count": null,
   "metadata": {},
   "outputs": [],
   "source": [
    "\n",
    "'''\n",
    "seperate dependent and independent variables\n",
    "'''\n",
    "\n",
    "X = dataSetUp.drop(DependentVariable, axis=1)\n",
    "y = dataSetUp[DependentVariable]"
   ]
  },
  {
   "cell_type": "code",
   "execution_count": null,
   "metadata": {},
   "outputs": [],
   "source": [
    "#yellow brick\n",
    "visualizer = Rank2D(algorithm='pearson')\n",
    "visualizer.fit(X, y)\n",
    "visualizer.transform(X)\n",
    "visualizer.show()\n",
    "visualizer = ClassBalance(labels=[\"Cant Afford\", \"Can Afford\"])\n",
    "visualizer.fit(y)        # Fit the data to the visualizer\n",
    "visualizer.show()        # Finalize and render the figure"
   ]
  },
  {
   "cell_type": "code",
   "execution_count": null,
   "metadata": {},
   "outputs": [],
   "source": [
    "\n",
    "# Train and test with random seed\n",
    "X_train, X_test, y_train, y_test = train_test_split(X, y, test_size=testSize, random_state=randomstate)\n"
   ]
  },
  {
   "cell_type": "code",
   "execution_count": null,
   "metadata": {},
   "outputs": [],
   "source": [
    "\n",
    "# Optimizing with standardScaler to minimize bias and normalize values\n",
    "sc = StandardScaler()\n",
    "X_train = sc.fit_transform(X_train)\n",
    "X_test = sc.transform(X_test)"
   ]
  },
  {
   "cell_type": "code",
   "execution_count": null,
   "metadata": {},
   "outputs": [],
   "source": [
    "dict_classifiers = {\n",
    "    \"rfc\": RandomForestClassifier(n_estimators=200),\n",
    "    \"clf\": svm.SVC(),\n",
    "    \"mlpc\": MLPClassifier(hidden_layer_sizes=(11, 11, 11), max_iter=500,  random_state=1)\n",
    "}"
   ]
  },
  {
   "cell_type": "code",
   "execution_count": null,
   "metadata": {},
   "outputs": [],
   "source": [
    "\n",
    "for model, model_instantiation in dict_classifiers.items():\n",
    "    model = model_instantiation\n",
    "    model.fit(X_train, y_train)\n",
    "    y_score = model.predict(X_test)\n",
    "    # yellow brick\n",
    "    cm = ConfusionMatrix(model, classes=[0,1])\n",
    "    cm.fit(X_train, y_train)\n",
    "    cm.score(X_test, y_test)\n",
    "    cm.show()\n",
    "\n",
    "    confusion_Matrix = confusion_matrix(y_test, y_score)\n",
    "    cm = accuracy_score(y_test, y_score)\n",
    "    print(f\"Printing Model details for : {model}\\n\"\n",
    "          f\"Printing Confusion Matrix\\n{confusion_Matrix}\\n\"\n",
    "          f\"Printing Classification Report\\n {classification_report(y_test, y_score)}\\n\"\n",
    "          f\"****\\n\"\n",
    "          f\"End of Model\\n\"\n",
    "          f\"****\\n\")\n"
   ]
  },
  {
   "cell_type": "code",
   "execution_count": null,
   "metadata": {},
   "outputs": [],
   "source": [
    "    mlpc = MLPClassifier(hidden_layer_sizes=(11, 11, 11), max_iter=500,  random_state=randomstate)\n",
    "    mlpc.fit(X_train, y_train)"
   ]
  },
  {
   "cell_type": "code",
   "execution_count": null,
   "metadata": {},
   "outputs": [],
   "source": [
    "    Xnew = X_test[[0]]\n",
    "    pred_mlpc = mlpc.predict(X_test)\n",
    "    ynew = mlpc.predict(Xnew)\n",
    "    if ynew == 0:\n",
    "        print(f\"I am too poor to afford food\")\n",
    "    else:\n",
    "        print(f\"I will survive\")\n"
   ]
  },
  {
   "cell_type": "code",
   "execution_count": null,
   "metadata": {},
   "outputs": [],
   "source": [
    "\n",
    "X_train, X_test, y_train, y_test = train_test_split(X, y, test_size=0.33)\n",
    "nb = GaussianNB()\n",
    "nb.fit(X_train, y_train)\n",
    "predicted_probas = nb.predict_proba(X_test)\n",
    "skplt.metrics.plot_roc(y_test, predicted_probas)\n",
    "plt.show()\n"
   ]
  },
  {
   "cell_type": "code",
   "execution_count": null,
   "metadata": {},
   "outputs": [],
   "source": [
    "\n",
    "Xnew = [[8000, 0, 0]]\n",
    "ynew = 0\n",
    "income = 30000\n",
    "famSize = 3\n",
    "reduceCostIteratorValue = 50\n",
    "while ynew == 0:\n",
    "    Xnew = [[Xnew[0:1][0][0] - 0, income, famSize]]\n",
    "    Xnew1 = sc.transform(Xnew)\n",
    "    ynew = mlpc.predict(Xnew1)\n",
    "    print(f'new ynew: {ynew} for xnew: {Xnew}')\n",
    "    if ynew == 1:\n",
    "        print(f\"VVVVVVVVVVVVVVVVVVVVVVVVVVVVVVVVVVVVVVVVVVVVVVVVVVV You will Be fine at current cost below \"\n",
    "              f\"VVVVVVVVVVVVVVVVVVVVVVVVVVVVVVVVVVVVVVVVVVVVVVVVVVVV\")\n",
    "        break\n",
    "    else:\n",
    "        print(f\"HMM you are spending too much iterating to find you an optimal amount trying {Xnew} \")\n",
    "        Xnew = [[Xnew[0:1][0][0] - reduceCostIteratorValue, income, famSize]]\n",
    "        Xnew1 = sc.transform(Xnew)\n",
    "        ynew = mlpc.predict(Xnew1)\n",
    "\n",
    "print(f\"***********************************************-- \"\n",
    "      f\"We suggest you reduce your annual expenditure to ${Xnew[0][0]} for family counts of {Xnew[0][2]} and income of ${Xnew[0][1]}\"\n",
    "      f\" --***********************************************\")\n",
    "\n"
   ]
  },
  {
   "cell_type": "code",
   "execution_count": null,
   "metadata": {},
   "outputs": [],
   "source": []
  },
  {
   "cell_type": "code",
   "execution_count": null,
   "metadata": {},
   "outputs": [],
   "source": []
  }
 ],
 "metadata": {
  "kernelspec": {
   "display_name": "Python 3",
   "language": "python",
   "name": "python3"
  },
  "language_info": {
   "codemirror_mode": {
    "name": "ipython",
    "version": 3
   },
   "file_extension": ".py",
   "mimetype": "text/x-python",
   "name": "python",
   "nbconvert_exporter": "python",
   "pygments_lexer": "ipython3",
   "version": "3.9.0"
  }
 },
 "nbformat": 4,
 "nbformat_minor": 1
}
