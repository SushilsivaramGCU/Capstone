{
 "cells": [
  {
   "cell_type": "markdown",
   "metadata": {},
   "source": [
    "# docs"
   ]
  },
  {
   "cell_type": "code",
   "execution_count": 1,
   "metadata": {
    "scrolled": false
   },
   "outputs": [],
   "source": [
    "#!/usr/bin/env python\n",
    "\n",
    "__author__ = \"Sushil Sivaram\", \"Megha Gubbala\", \"Sylvia Nanyangwe\"\n",
    "__copyright__ = \"N/A\"\n",
    "__credits__ = [\"Isac Artzi\", \"Dinesh Sthapit\", \"Ken Ferrell\", \"James Dzikunu\", \"Tracy Roth\", \"Renee Morales\"]\n",
    "__license__ = \"ECL\"\n",
    "__maintainer__ = \"Sushil Sivaram\", \"Megha Gubbala\", \"Sylvia Nanyangwe\"\n",
    "__email__ = \"SushilSivaram@gmail.com\"\n",
    "__status__ = \"Development\""
   ]
  },
  {
   "cell_type": "markdown",
   "metadata": {
    "collapsed": true
   },
   "source": [
    "# This section shows the imports used by the code"
   ]
  },
  {
   "cell_type": "code",
   "execution_count": 2,
   "metadata": {
    "scrolled": false
   },
   "outputs": [],
   "source": [
    "from matplotlib import pyplot\n",
    "from scipy import stats\n",
    "import pandas as pd\n",
    "import numpy as np\n",
    "import os\n",
    "from dotenv import load_dotenv\n",
    "from sklearn import svm\n",
    "from sklearn.linear_model import LogisticRegression, LinearRegression\n",
    "from sklearn.ensemble import RandomForestClassifier\n",
    "from sklearn.metrics import confusion_matrix, classification_report, accuracy_score\n",
    "from sklearn.model_selection import train_test_split\n",
    "from sklearn.neural_network import MLPClassifier\n",
    "from sklearn.preprocessing import LabelEncoder, StandardScaler\n",
    "from sklearn.decomposition import PCA\n",
    "from yellowbrick.features import Rank2D\n",
    "from yellowbrick.target import ClassBalance\n",
    "from yellowbrick.classifier import ConfusionMatrix\n",
    "from sklearn.naive_bayes import GaussianNB\n",
    "import matplotlib.pyplot as plt\n",
    "import scikitplot as skplt\n",
    "from statsmodels.stats.outliers_influence import variance_inflation_factor\n",
    "from IPython.display import FileLink\n",
    "import warnings\n",
    "warnings.filterwarnings('ignore')\n",
    "\n",
    "from sklearn.metrics import balanced_accuracy_score\n",
    "from IPython.display import Markdown\n",
    "from sklearn.metrics import mean_squared_error\n",
    "from sklearn import metrics\n"
   ]
  },
  {
   "cell_type": "markdown",
   "metadata": {},
   "source": [
    "# Define Variables"
   ]
  },
  {
   "cell_type": "code",
   "execution_count": 3,
   "metadata": {
    "scrolled": false
   },
   "outputs": [],
   "source": [
    "load_dotenv()\n",
    "#CSVData = os.getenv('CSVOriginal')\n",
    "CSVData = 'food_afford_cdp_co_region_ca4-14-13-ada.csv'\n",
    "DependentVariable = os.getenv('DependentVariable')\n",
    "head_Value = int(os.getenv('Head_Value'))\n",
    "testSize = float(os.getenv('test_size'))\n",
    "randomstate = int(os.getenv('random_state'))\n",
    "dataSetUp = []\n",
    "keepcolumns = ['race_eth_code', 'median_income', 'affordability_ratio', 'ave_fam_size']\n",
    "datasetupUnprocessed = []"
   ]
  },
  {
   "cell_type": "markdown",
   "metadata": {},
   "source": [
    "# Setup Reusable Functions"
   ]
  },
  {
   "cell_type": "code",
   "execution_count": 4,
   "metadata": {
    "scrolled": false
   },
   "outputs": [],
   "source": [
    "# Load Data from CSV\n",
    "def loadAndExtractData():\n",
    "    def readCSV():\n",
    "        global datasetupUnprocessed\n",
    "        dataSetUp = pd.read_csv(CSVData)\n",
    "        datasetupUnprocessed = dataSetUp\n",
    "        display(datasetupUnprocessed.corr())\n",
    "        dataout = datasetupUnprocessed.corr()\n",
    "        dataout.to_csv('dataout.csv')\n",
    "        display(FileLink('dataout.csv'))\n",
    "        return dataSetUp\n",
    "\n",
    "    def dropVariables():\n",
    "        dataSetUp = readCSV()\n",
    "        dataSetUp = dataSetUp.filter(keepcolumns)\n",
    "        return dataSetUp\n",
    "\n",
    "    def removeNullValues():\n",
    "        dataSetUp = dropVariables()\n",
    "        for keep in keepcolumns:\n",
    "            dataSetUp = dataSetUp[dataSetUp[keep].notna()]\n",
    "        return dataSetUp\n",
    "\n",
    "    def removeOutliers():\n",
    "        global dataSetUp\n",
    "        dataSetUp = removeNullValues()\n",
    "        dataSetUp = dataSetUp[(np.abs(stats.zscore(dataSetUp)) < 3).all(axis=1)]\n",
    "        dataSetUp.to_csv('cleaned.csv', index=False)\n",
    "        print(FileLink('cleaned.csv'))\n",
    "        print(dataSetUp.shape)\n",
    "        return dataSetUp\n",
    "    dataSetUp = removeOutliers()        \n",
    "\n",
    "\n",
    "# print Info\n",
    "def showDataHeadAndInfo(data, headCount):\n",
    "    print(f\"showing head {headCount} values\")\n",
    "    print(data.head(headCount))\n",
    "    print(\"**********\")\n",
    "    print(\"Showing info of dataset\")\n",
    "    print(data.describe(include='all'))\n",
    "\n",
    "\n",
    "# preProcessing\n",
    "def preProcessing():\n",
    "    bins = (0, .2, 5)\n",
    "    group_names = ['Cant Afford', 'Can Afford']\n",
    "    dataSetUp[DependentVariable] = pd.cut(dataSetUp[DependentVariable], bins, labels=group_names)\n",
    "    dataSetUp.to_csv('test.csv')\n",
    "    label_quality = LabelEncoder()\n",
    "    dataSetUp[DependentVariable] = label_quality.fit_transform(dataSetUp[DependentVariable])\n",
    "    # showDataHeadAndInfo(head_Value)\n",
    "    print(dataSetUp[DependentVariable].value_counts())\n",
    "\n",
    "\n",
    "# plotting\n",
    "def plotting(dataSetUp, state):\n",
    "    plt.figure()\n",
    "    histmedian_income = dataSetUp['median_income'].plot.hist(bins=25, grid=True, rwidth=0.9, color='#607c8e')\n",
    "    plt.title(f'Histogram of Median Income {state}')\n",
    "    plt.xlabel('Median Income in $')\n",
    "    plt.ylabel('Count')\n",
    "    plt.grid(axis='y', alpha=0.5)\n",
    "    histmedian_income.figure.savefig(f'.\\outputs\\histMedianIncome{state}.png')\n",
    "\n",
    "    plt.figure()\n",
    "    hist_avg_fam = dataSetUp['ave_fam_size'].plot.hist(bins=25, grid=True, rwidth=0.9, color='#607c8e')\n",
    "    plt.title(f'Histogram of Family Size {state}')\n",
    "    plt.xlabel('Family Size')\n",
    "    plt.ylabel('Count')\n",
    "    plt.grid(axis='y', alpha=0.5)\n",
    "    hist_avg_fam.figure.savefig(f'.\\outputs\\histavgFamsize{state}.png')\n",
    "\n",
    "    plt.figure()\n",
    "    hist_race_eth_name = dataSetUp['race_eth_code'].plot.hist(bins=2, grid=True, rwidth=0.9, color='#607c8e')\n",
    "    plt.title(f'Histogram race distribution {state}')\n",
    "    plt.xlabel('Race')\n",
    "    plt.ylabel('Count')\n",
    "    plt.grid(axis='y', alpha=0.5)\n",
    "    hist_race_eth_name.figure.savefig(f'.\\outputs\\histCost{state}.png')\n",
    "\n",
    "    plt.figure()\n",
    "    scattermedian_income = dataSetUp.plot.scatter(c='DarkBlue', x='median_income', y='ave_fam_size')\n",
    "    plt.title(f'scatterogram of Median Income vs Expenditure {state}')\n",
    "    plt.xlabel('Median Income in $')\n",
    "    plt.ylabel('ave_fam_size')\n",
    "    plt.grid(axis='y', alpha=0.5)\n",
    "    scattermedian_income.figure.savefig(f'.\\outputs\\scatterMedianIncomeVSFamilySize{state}.png')\n",
    "    plt.figure()\n",
    "    \n",
    "#Variable importance\n",
    "def checkforPCA():\n",
    "    #dataSetUp = removeOutliers()\n",
    "    pca = PCA()\n",
    "    X = dataSetUp.drop(DependentVariable, axis=1)\n",
    "    y = dataSetUp[DependentVariable]\n",
    "    x_pca = pca.fit_transform(X)\n",
    "    x_pca = pd.DataFrame(x_pca)\n",
    "    datapca = x_pca.head()\n",
    "    datapca.to_csv('datapca.csv')\n",
    "    print(FileLink('datapca.csv'))\n",
    "    return dataSetUp  \n",
    "\n",
    "def predictorImportance():\n",
    "    X = dataSetUp.drop(DependentVariable, axis=1)\n",
    "    y = dataSetUp[DependentVariable]\n",
    "    model = LogisticRegression()\n",
    "    # fit the model\n",
    "    model.fit(X, y)\n",
    "    importance = model.coef_[0]\n",
    "    # summarize feature importance\n",
    "    for i, v in enumerate(importance):\n",
    "        print('Feature: %0d, Score: %.5f' % (i, v))\n",
    "    # plot feature importance\n",
    "    pyplot.bar([x for x in range(len(importance))], importance)\n",
    "    pyplot.show()\n",
    "\n",
    "\n",
    "def vifCheck(dataSetUp):\n",
    "    vif_data = pd.DataFrame()\n",
    "    vif_data[\"feature\"] = dataSetUp.columns\n",
    "    vif_data[\"VIF\"] = [variance_inflation_factor(dataSetUp.values, i)\n",
    "                       for i in range(len(dataSetUp.columns))]\n",
    "    print(vif_data)\n",
    "\n",
    "    \n",
    "def rocChart():\n",
    "    X_train, X_test, y_train, y_test = train_test_split(X, y, test_size=0.33)\n",
    "    nb = GaussianNB()\n",
    "    nb.fit(X_train, y_train)\n",
    "    predicted_probas = nb.predict_proba(X_test)\n",
    "    skplt.metrics.plot_roc(y_test, predicted_probas)\n",
    "    plt.show()\n",
    "\n",
    "\n",
    "# Training\n",
    "def trainDataset():\n",
    "    global X_train\n",
    "    global y_train\n",
    "    global X_test\n",
    "    global y_test\n",
    "    global sc\n",
    "    # Train and test with random seed\n",
    "    X_train, X_test, y_train, y_test = train_test_split(X, y, test_size=testSize, random_state=randomstate)\n",
    "    # Optimizing with standardScaler to minimize bias and normalize values\n",
    "    sc = StandardScaler()\n",
    "    X_train = sc.fit_transform(X_train)\n",
    "    X_test = sc.transform(X_test)"
   ]
  },
  {
   "cell_type": "markdown",
   "metadata": {},
   "source": [
    "# Load Data from CSV"
   ]
  },
  {
   "cell_type": "code",
   "execution_count": 5,
   "metadata": {
    "scrolled": false
   },
   "outputs": [
    {
     "data": {
      "text/html": [
       "<div>\n",
       "<style scoped>\n",
       "    .dataframe tbody tr th:only-of-type {\n",
       "        vertical-align: middle;\n",
       "    }\n",
       "\n",
       "    .dataframe tbody tr th {\n",
       "        vertical-align: top;\n",
       "    }\n",
       "\n",
       "    .dataframe thead th {\n",
       "        text-align: right;\n",
       "    }\n",
       "</style>\n",
       "<table border=\"1\" class=\"dataframe\">\n",
       "  <thead>\n",
       "    <tr style=\"text-align: right;\">\n",
       "      <th></th>\n",
       "      <th>race_eth_code</th>\n",
       "      <th>geotypevalue</th>\n",
       "      <th>county_fips</th>\n",
       "      <th>region_code</th>\n",
       "      <th>cost_yr</th>\n",
       "      <th>median_income</th>\n",
       "      <th>affordability_ratio</th>\n",
       "      <th>LL95_affordability_ratio</th>\n",
       "      <th>UL95_affordability_ratio</th>\n",
       "      <th>se_food_afford</th>\n",
       "      <th>rse_food_afford</th>\n",
       "      <th>food_afford_decile</th>\n",
       "      <th>CA_RR_Affordability</th>\n",
       "      <th>ave_fam_size</th>\n",
       "    </tr>\n",
       "  </thead>\n",
       "  <tbody>\n",
       "    <tr>\n",
       "      <th>race_eth_code</th>\n",
       "      <td>1.000000e+00</td>\n",
       "      <td>3.708010e-15</td>\n",
       "      <td>6.726802e-16</td>\n",
       "      <td>2.879208e-16</td>\n",
       "      <td>1.984846e-16</td>\n",
       "      <td>0.016844</td>\n",
       "      <td>-0.018701</td>\n",
       "      <td>0.066166</td>\n",
       "      <td>0.000871</td>\n",
       "      <td>0.001582</td>\n",
       "      <td>-0.024788</td>\n",
       "      <td>NaN</td>\n",
       "      <td>-0.018701</td>\n",
       "      <td>2.152639e-16</td>\n",
       "    </tr>\n",
       "    <tr>\n",
       "      <th>geotypevalue</th>\n",
       "      <td>3.708010e-15</td>\n",
       "      <td>1.000000e+00</td>\n",
       "      <td>7.375404e-02</td>\n",
       "      <td>5.456655e-02</td>\n",
       "      <td>4.041370e-02</td>\n",
       "      <td>0.055404</td>\n",
       "      <td>0.017357</td>\n",
       "      <td>-0.045863</td>\n",
       "      <td>0.013320</td>\n",
       "      <td>0.015093</td>\n",
       "      <td>0.035105</td>\n",
       "      <td>0.005215</td>\n",
       "      <td>0.017357</td>\n",
       "      <td>3.332340e-02</td>\n",
       "    </tr>\n",
       "    <tr>\n",
       "      <th>county_fips</th>\n",
       "      <td>6.726802e-16</td>\n",
       "      <td>7.375404e-02</td>\n",
       "      <td>1.000000e+00</td>\n",
       "      <td>1.334657e-01</td>\n",
       "      <td>-6.613978e-02</td>\n",
       "      <td>-0.027582</td>\n",
       "      <td>0.038356</td>\n",
       "      <td>-0.030209</td>\n",
       "      <td>-0.000084</td>\n",
       "      <td>0.001011</td>\n",
       "      <td>0.000977</td>\n",
       "      <td>-0.016812</td>\n",
       "      <td>0.038356</td>\n",
       "      <td>-5.812496e-02</td>\n",
       "    </tr>\n",
       "    <tr>\n",
       "      <th>region_code</th>\n",
       "      <td>2.879208e-16</td>\n",
       "      <td>5.456655e-02</td>\n",
       "      <td>1.334657e-01</td>\n",
       "      <td>1.000000e+00</td>\n",
       "      <td>2.819355e-01</td>\n",
       "      <td>-0.081700</td>\n",
       "      <td>0.073701</td>\n",
       "      <td>0.115173</td>\n",
       "      <td>-0.001915</td>\n",
       "      <td>-0.008380</td>\n",
       "      <td>-0.040371</td>\n",
       "      <td>-0.155385</td>\n",
       "      <td>0.073701</td>\n",
       "      <td>2.176299e-01</td>\n",
       "    </tr>\n",
       "    <tr>\n",
       "      <th>cost_yr</th>\n",
       "      <td>1.984846e-16</td>\n",
       "      <td>4.041370e-02</td>\n",
       "      <td>-6.613978e-02</td>\n",
       "      <td>2.819355e-01</td>\n",
       "      <td>1.000000e+00</td>\n",
       "      <td>-0.091045</td>\n",
       "      <td>0.135295</td>\n",
       "      <td>0.236318</td>\n",
       "      <td>-0.013875</td>\n",
       "      <td>-0.031320</td>\n",
       "      <td>-0.077387</td>\n",
       "      <td>-0.355870</td>\n",
       "      <td>0.135295</td>\n",
       "      <td>9.636004e-01</td>\n",
       "    </tr>\n",
       "    <tr>\n",
       "      <th>median_income</th>\n",
       "      <td>1.684375e-02</td>\n",
       "      <td>5.540431e-02</td>\n",
       "      <td>-2.758242e-02</td>\n",
       "      <td>-8.170001e-02</td>\n",
       "      <td>-9.104477e-02</td>\n",
       "      <td>1.000000</td>\n",
       "      <td>-0.443224</td>\n",
       "      <td>-0.301998</td>\n",
       "      <td>-0.207914</td>\n",
       "      <td>-0.168264</td>\n",
       "      <td>-0.134449</td>\n",
       "      <td>0.728487</td>\n",
       "      <td>-0.443224</td>\n",
       "      <td>-1.722281e-01</td>\n",
       "    </tr>\n",
       "    <tr>\n",
       "      <th>affordability_ratio</th>\n",
       "      <td>-1.870110e-02</td>\n",
       "      <td>1.735681e-02</td>\n",
       "      <td>3.835569e-02</td>\n",
       "      <td>7.370095e-02</td>\n",
       "      <td>1.352948e-01</td>\n",
       "      <td>-0.443224</td>\n",
       "      <td>1.000000</td>\n",
       "      <td>0.188805</td>\n",
       "      <td>0.540766</td>\n",
       "      <td>0.482920</td>\n",
       "      <td>0.337438</td>\n",
       "      <td>-0.619112</td>\n",
       "      <td>1.000000</td>\n",
       "      <td>1.797588e-01</td>\n",
       "    </tr>\n",
       "    <tr>\n",
       "      <th>LL95_affordability_ratio</th>\n",
       "      <td>6.616617e-02</td>\n",
       "      <td>-4.586301e-02</td>\n",
       "      <td>-3.020901e-02</td>\n",
       "      <td>1.151732e-01</td>\n",
       "      <td>2.363179e-01</td>\n",
       "      <td>-0.301998</td>\n",
       "      <td>0.188805</td>\n",
       "      <td>1.000000</td>\n",
       "      <td>-0.114302</td>\n",
       "      <td>-0.134097</td>\n",
       "      <td>-0.276530</td>\n",
       "      <td>-0.404021</td>\n",
       "      <td>0.188805</td>\n",
       "      <td>2.685427e-01</td>\n",
       "    </tr>\n",
       "    <tr>\n",
       "      <th>UL95_affordability_ratio</th>\n",
       "      <td>8.708342e-04</td>\n",
       "      <td>1.331955e-02</td>\n",
       "      <td>-8.442782e-05</td>\n",
       "      <td>-1.914618e-03</td>\n",
       "      <td>-1.387481e-02</td>\n",
       "      <td>-0.207914</td>\n",
       "      <td>0.540766</td>\n",
       "      <td>-0.114302</td>\n",
       "      <td>1.000000</td>\n",
       "      <td>0.997732</td>\n",
       "      <td>0.865031</td>\n",
       "      <td>-0.218592</td>\n",
       "      <td>0.540766</td>\n",
       "      <td>2.624772e-03</td>\n",
       "    </tr>\n",
       "    <tr>\n",
       "      <th>se_food_afford</th>\n",
       "      <td>1.581582e-03</td>\n",
       "      <td>1.509296e-02</td>\n",
       "      <td>1.011063e-03</td>\n",
       "      <td>-8.380012e-03</td>\n",
       "      <td>-3.132043e-02</td>\n",
       "      <td>-0.168264</td>\n",
       "      <td>0.482920</td>\n",
       "      <td>-0.134097</td>\n",
       "      <td>0.997732</td>\n",
       "      <td>1.000000</td>\n",
       "      <td>0.873499</td>\n",
       "      <td>-0.175208</td>\n",
       "      <td>0.482920</td>\n",
       "      <td>-1.918185e-02</td>\n",
       "    </tr>\n",
       "    <tr>\n",
       "      <th>rse_food_afford</th>\n",
       "      <td>-2.478751e-02</td>\n",
       "      <td>3.510456e-02</td>\n",
       "      <td>9.772263e-04</td>\n",
       "      <td>-4.037071e-02</td>\n",
       "      <td>-7.738654e-02</td>\n",
       "      <td>-0.134449</td>\n",
       "      <td>0.337438</td>\n",
       "      <td>-0.276530</td>\n",
       "      <td>0.865031</td>\n",
       "      <td>0.873499</td>\n",
       "      <td>1.000000</td>\n",
       "      <td>-0.142000</td>\n",
       "      <td>0.337438</td>\n",
       "      <td>-7.239234e-02</td>\n",
       "    </tr>\n",
       "    <tr>\n",
       "      <th>food_afford_decile</th>\n",
       "      <td>NaN</td>\n",
       "      <td>5.215403e-03</td>\n",
       "      <td>-1.681248e-02</td>\n",
       "      <td>-1.553850e-01</td>\n",
       "      <td>-3.558697e-01</td>\n",
       "      <td>0.728487</td>\n",
       "      <td>-0.619112</td>\n",
       "      <td>-0.404021</td>\n",
       "      <td>-0.218592</td>\n",
       "      <td>-0.175208</td>\n",
       "      <td>-0.142000</td>\n",
       "      <td>1.000000</td>\n",
       "      <td>-0.619112</td>\n",
       "      <td>-4.351758e-01</td>\n",
       "    </tr>\n",
       "    <tr>\n",
       "      <th>CA_RR_Affordability</th>\n",
       "      <td>-1.870110e-02</td>\n",
       "      <td>1.735681e-02</td>\n",
       "      <td>3.835569e-02</td>\n",
       "      <td>7.370095e-02</td>\n",
       "      <td>1.352948e-01</td>\n",
       "      <td>-0.443224</td>\n",
       "      <td>1.000000</td>\n",
       "      <td>0.188805</td>\n",
       "      <td>0.540766</td>\n",
       "      <td>0.482920</td>\n",
       "      <td>0.337438</td>\n",
       "      <td>-0.619112</td>\n",
       "      <td>1.000000</td>\n",
       "      <td>1.797588e-01</td>\n",
       "    </tr>\n",
       "    <tr>\n",
       "      <th>ave_fam_size</th>\n",
       "      <td>2.152639e-16</td>\n",
       "      <td>3.332340e-02</td>\n",
       "      <td>-5.812496e-02</td>\n",
       "      <td>2.176299e-01</td>\n",
       "      <td>9.636004e-01</td>\n",
       "      <td>-0.172228</td>\n",
       "      <td>0.179759</td>\n",
       "      <td>0.268543</td>\n",
       "      <td>0.002625</td>\n",
       "      <td>-0.019182</td>\n",
       "      <td>-0.072392</td>\n",
       "      <td>-0.435176</td>\n",
       "      <td>0.179759</td>\n",
       "      <td>1.000000e+00</td>\n",
       "    </tr>\n",
       "  </tbody>\n",
       "</table>\n",
       "</div>"
      ],
      "text/plain": [
       "                          race_eth_code  geotypevalue   county_fips  \\\n",
       "race_eth_code              1.000000e+00  3.708010e-15  6.726802e-16   \n",
       "geotypevalue               3.708010e-15  1.000000e+00  7.375404e-02   \n",
       "county_fips                6.726802e-16  7.375404e-02  1.000000e+00   \n",
       "region_code                2.879208e-16  5.456655e-02  1.334657e-01   \n",
       "cost_yr                    1.984846e-16  4.041370e-02 -6.613978e-02   \n",
       "median_income              1.684375e-02  5.540431e-02 -2.758242e-02   \n",
       "affordability_ratio       -1.870110e-02  1.735681e-02  3.835569e-02   \n",
       "LL95_affordability_ratio   6.616617e-02 -4.586301e-02 -3.020901e-02   \n",
       "UL95_affordability_ratio   8.708342e-04  1.331955e-02 -8.442782e-05   \n",
       "se_food_afford             1.581582e-03  1.509296e-02  1.011063e-03   \n",
       "rse_food_afford           -2.478751e-02  3.510456e-02  9.772263e-04   \n",
       "food_afford_decile                  NaN  5.215403e-03 -1.681248e-02   \n",
       "CA_RR_Affordability       -1.870110e-02  1.735681e-02  3.835569e-02   \n",
       "ave_fam_size               2.152639e-16  3.332340e-02 -5.812496e-02   \n",
       "\n",
       "                           region_code       cost_yr  median_income  \\\n",
       "race_eth_code             2.879208e-16  1.984846e-16       0.016844   \n",
       "geotypevalue              5.456655e-02  4.041370e-02       0.055404   \n",
       "county_fips               1.334657e-01 -6.613978e-02      -0.027582   \n",
       "region_code               1.000000e+00  2.819355e-01      -0.081700   \n",
       "cost_yr                   2.819355e-01  1.000000e+00      -0.091045   \n",
       "median_income            -8.170001e-02 -9.104477e-02       1.000000   \n",
       "affordability_ratio       7.370095e-02  1.352948e-01      -0.443224   \n",
       "LL95_affordability_ratio  1.151732e-01  2.363179e-01      -0.301998   \n",
       "UL95_affordability_ratio -1.914618e-03 -1.387481e-02      -0.207914   \n",
       "se_food_afford           -8.380012e-03 -3.132043e-02      -0.168264   \n",
       "rse_food_afford          -4.037071e-02 -7.738654e-02      -0.134449   \n",
       "food_afford_decile       -1.553850e-01 -3.558697e-01       0.728487   \n",
       "CA_RR_Affordability       7.370095e-02  1.352948e-01      -0.443224   \n",
       "ave_fam_size              2.176299e-01  9.636004e-01      -0.172228   \n",
       "\n",
       "                          affordability_ratio  LL95_affordability_ratio  \\\n",
       "race_eth_code                       -0.018701                  0.066166   \n",
       "geotypevalue                         0.017357                 -0.045863   \n",
       "county_fips                          0.038356                 -0.030209   \n",
       "region_code                          0.073701                  0.115173   \n",
       "cost_yr                              0.135295                  0.236318   \n",
       "median_income                       -0.443224                 -0.301998   \n",
       "affordability_ratio                  1.000000                  0.188805   \n",
       "LL95_affordability_ratio             0.188805                  1.000000   \n",
       "UL95_affordability_ratio             0.540766                 -0.114302   \n",
       "se_food_afford                       0.482920                 -0.134097   \n",
       "rse_food_afford                      0.337438                 -0.276530   \n",
       "food_afford_decile                  -0.619112                 -0.404021   \n",
       "CA_RR_Affordability                  1.000000                  0.188805   \n",
       "ave_fam_size                         0.179759                  0.268543   \n",
       "\n",
       "                          UL95_affordability_ratio  se_food_afford  \\\n",
       "race_eth_code                             0.000871        0.001582   \n",
       "geotypevalue                              0.013320        0.015093   \n",
       "county_fips                              -0.000084        0.001011   \n",
       "region_code                              -0.001915       -0.008380   \n",
       "cost_yr                                  -0.013875       -0.031320   \n",
       "median_income                            -0.207914       -0.168264   \n",
       "affordability_ratio                       0.540766        0.482920   \n",
       "LL95_affordability_ratio                 -0.114302       -0.134097   \n",
       "UL95_affordability_ratio                  1.000000        0.997732   \n",
       "se_food_afford                            0.997732        1.000000   \n",
       "rse_food_afford                           0.865031        0.873499   \n",
       "food_afford_decile                       -0.218592       -0.175208   \n",
       "CA_RR_Affordability                       0.540766        0.482920   \n",
       "ave_fam_size                              0.002625       -0.019182   \n",
       "\n",
       "                          rse_food_afford  food_afford_decile  \\\n",
       "race_eth_code                   -0.024788                 NaN   \n",
       "geotypevalue                     0.035105            0.005215   \n",
       "county_fips                      0.000977           -0.016812   \n",
       "region_code                     -0.040371           -0.155385   \n",
       "cost_yr                         -0.077387           -0.355870   \n",
       "median_income                   -0.134449            0.728487   \n",
       "affordability_ratio              0.337438           -0.619112   \n",
       "LL95_affordability_ratio        -0.276530           -0.404021   \n",
       "UL95_affordability_ratio         0.865031           -0.218592   \n",
       "se_food_afford                   0.873499           -0.175208   \n",
       "rse_food_afford                  1.000000           -0.142000   \n",
       "food_afford_decile              -0.142000            1.000000   \n",
       "CA_RR_Affordability              0.337438           -0.619112   \n",
       "ave_fam_size                    -0.072392           -0.435176   \n",
       "\n",
       "                          CA_RR_Affordability  ave_fam_size  \n",
       "race_eth_code                       -0.018701  2.152639e-16  \n",
       "geotypevalue                         0.017357  3.332340e-02  \n",
       "county_fips                          0.038356 -5.812496e-02  \n",
       "region_code                          0.073701  2.176299e-01  \n",
       "cost_yr                              0.135295  9.636004e-01  \n",
       "median_income                       -0.443224 -1.722281e-01  \n",
       "affordability_ratio                  1.000000  1.797588e-01  \n",
       "LL95_affordability_ratio             0.188805  2.685427e-01  \n",
       "UL95_affordability_ratio             0.540766  2.624772e-03  \n",
       "se_food_afford                       0.482920 -1.918185e-02  \n",
       "rse_food_afford                      0.337438 -7.239234e-02  \n",
       "food_afford_decile                  -0.619112 -4.351758e-01  \n",
       "CA_RR_Affordability                  1.000000  1.797588e-01  \n",
       "ave_fam_size                         0.179759  1.000000e+00  "
      ]
     },
     "metadata": {},
     "output_type": "display_data"
    },
    {
     "data": {
      "text/html": [
       "<a href='dataout.csv' target='_blank'>dataout.csv</a><br>"
      ],
      "text/plain": [
       "C:\\Project\\Capstone\\dataout.csv"
      ]
     },
     "metadata": {},
     "output_type": "display_data"
    },
    {
     "name": "stdout",
     "output_type": "stream",
     "text": [
      "C:\\Project\\Capstone\\cleaned.csv\n",
      "(3216, 4)\n"
     ]
    }
   ],
   "source": [
    "loadAndExtractData()"
   ]
  },
  {
   "cell_type": "markdown",
   "metadata": {},
   "source": [
    "check for PCA"
   ]
  },
  {
   "cell_type": "code",
   "execution_count": 6,
   "metadata": {},
   "outputs": [
    {
     "name": "stdout",
     "output_type": "stream",
     "text": [
      "C:\\Project\\Capstone\\datapca.csv\n"
     ]
    },
    {
     "data": {
      "text/html": [
       "<div>\n",
       "<style scoped>\n",
       "    .dataframe tbody tr th:only-of-type {\n",
       "        vertical-align: middle;\n",
       "    }\n",
       "\n",
       "    .dataframe tbody tr th {\n",
       "        vertical-align: top;\n",
       "    }\n",
       "\n",
       "    .dataframe thead th {\n",
       "        text-align: right;\n",
       "    }\n",
       "</style>\n",
       "<table border=\"1\" class=\"dataframe\">\n",
       "  <thead>\n",
       "    <tr style=\"text-align: right;\">\n",
       "      <th></th>\n",
       "      <th>race_eth_code</th>\n",
       "      <th>median_income</th>\n",
       "      <th>affordability_ratio</th>\n",
       "      <th>ave_fam_size</th>\n",
       "    </tr>\n",
       "  </thead>\n",
       "  <tbody>\n",
       "    <tr>\n",
       "      <th>0</th>\n",
       "      <td>1.0</td>\n",
       "      <td>23777.0</td>\n",
       "      <td>0.315779</td>\n",
       "      <td>3.34</td>\n",
       "    </tr>\n",
       "    <tr>\n",
       "      <th>1</th>\n",
       "      <td>2.0</td>\n",
       "      <td>38508.0</td>\n",
       "      <td>0.194980</td>\n",
       "      <td>3.34</td>\n",
       "    </tr>\n",
       "    <tr>\n",
       "      <th>2</th>\n",
       "      <td>3.0</td>\n",
       "      <td>26192.0</td>\n",
       "      <td>0.286664</td>\n",
       "      <td>3.34</td>\n",
       "    </tr>\n",
       "    <tr>\n",
       "      <th>3</th>\n",
       "      <td>4.0</td>\n",
       "      <td>22858.0</td>\n",
       "      <td>0.328475</td>\n",
       "      <td>3.34</td>\n",
       "    </tr>\n",
       "    <tr>\n",
       "      <th>4</th>\n",
       "      <td>5.0</td>\n",
       "      <td>36737.0</td>\n",
       "      <td>0.204379</td>\n",
       "      <td>3.34</td>\n",
       "    </tr>\n",
       "    <tr>\n",
       "      <th>...</th>\n",
       "      <td>...</td>\n",
       "      <td>...</td>\n",
       "      <td>...</td>\n",
       "      <td>...</td>\n",
       "    </tr>\n",
       "    <tr>\n",
       "      <th>14223</th>\n",
       "      <td>4.0</td>\n",
       "      <td>13233.0</td>\n",
       "      <td>0.575954</td>\n",
       "      <td>3.21</td>\n",
       "    </tr>\n",
       "    <tr>\n",
       "      <th>14225</th>\n",
       "      <td>6.0</td>\n",
       "      <td>19381.0</td>\n",
       "      <td>0.393251</td>\n",
       "      <td>3.21</td>\n",
       "    </tr>\n",
       "    <tr>\n",
       "      <th>14228</th>\n",
       "      <td>9.0</td>\n",
       "      <td>18893.0</td>\n",
       "      <td>0.403409</td>\n",
       "      <td>3.21</td>\n",
       "    </tr>\n",
       "    <tr>\n",
       "      <th>14234</th>\n",
       "      <td>6.0</td>\n",
       "      <td>67813.0</td>\n",
       "      <td>0.109646</td>\n",
       "      <td>3.07</td>\n",
       "    </tr>\n",
       "    <tr>\n",
       "      <th>14237</th>\n",
       "      <td>9.0</td>\n",
       "      <td>67813.0</td>\n",
       "      <td>0.109646</td>\n",
       "      <td>3.07</td>\n",
       "    </tr>\n",
       "  </tbody>\n",
       "</table>\n",
       "<p>3216 rows × 4 columns</p>\n",
       "</div>"
      ],
      "text/plain": [
       "       race_eth_code  median_income  affordability_ratio  ave_fam_size\n",
       "0                1.0        23777.0             0.315779          3.34\n",
       "1                2.0        38508.0             0.194980          3.34\n",
       "2                3.0        26192.0             0.286664          3.34\n",
       "3                4.0        22858.0             0.328475          3.34\n",
       "4                5.0        36737.0             0.204379          3.34\n",
       "...              ...            ...                  ...           ...\n",
       "14223            4.0        13233.0             0.575954          3.21\n",
       "14225            6.0        19381.0             0.393251          3.21\n",
       "14228            9.0        18893.0             0.403409          3.21\n",
       "14234            6.0        67813.0             0.109646          3.07\n",
       "14237            9.0        67813.0             0.109646          3.07\n",
       "\n",
       "[3216 rows x 4 columns]"
      ]
     },
     "execution_count": 6,
     "metadata": {},
     "output_type": "execute_result"
    }
   ],
   "source": [
    "checkforPCA()"
   ]
  },
  {
   "cell_type": "markdown",
   "metadata": {},
   "source": [
    "# Print Info"
   ]
  },
  {
   "cell_type": "code",
   "execution_count": 7,
   "metadata": {
    "scrolled": false
   },
   "outputs": [
    {
     "name": "stdout",
     "output_type": "stream",
     "text": [
      "showing head 15 values\n",
      "   ind_id                                     ind_definition reportyear  \\\n",
      "0     757  Food affordability for female-headed household...  2006-2010   \n",
      "1     757  Food affordability for female-headed household...  2006-2010   \n",
      "2     757  Food affordability for female-headed household...  2006-2010   \n",
      "3     757  Food affordability for female-headed household...  2006-2010   \n",
      "4     757  Food affordability for female-headed household...  2006-2010   \n",
      "5     757  Food affordability for female-headed household...  2006-2010   \n",
      "6     757  Food affordability for female-headed household...  2006-2010   \n",
      "7     757  Food affordability for female-headed household...  2006-2010   \n",
      "8     757  Food affordability for female-headed household...  2006-2010   \n",
      "9     757  Food affordability for female-headed household...  2006-2010   \n",
      "10    757  Food affordability for female-headed household...  2006-2010   \n",
      "11    757  Food affordability for female-headed household...  2006-2010   \n",
      "12    757  Food affordability for female-headed household...  2006-2010   \n",
      "13    757  Food affordability for female-headed household...  2006-2010   \n",
      "14    757  Food affordability for female-headed household...  2006-2010   \n",
      "\n",
      "    race_eth_code race_eth_name geotype  geotypevalue     geoname county_name  \\\n",
      "0             1.0          AIAN      CA           6.0  California         NaN   \n",
      "1             2.0         Asian      CA           6.0  California         NaN   \n",
      "2             3.0     AfricanAm      CA           6.0  California         NaN   \n",
      "3             4.0        Latino      CA           6.0  California         NaN   \n",
      "4             5.0         NHOPI      CA           6.0  California         NaN   \n",
      "5             6.0         White      CA           6.0  California         NaN   \n",
      "6             7.0      Multiple      CA           6.0  California         NaN   \n",
      "7             8.0         Other      CA           6.0  California         NaN   \n",
      "8             9.0         Total      CA           6.0  California         NaN   \n",
      "9             1.0          AIAN      CO        6001.0     Alameda     Alameda   \n",
      "10            2.0         Asian      CO        6001.0     Alameda     Alameda   \n",
      "11            3.0     AfricanAm      CO        6001.0     Alameda     Alameda   \n",
      "12            4.0        Latino      CO        6001.0     Alameda     Alameda   \n",
      "13            5.0         NHOPI      CO        6001.0     Alameda     Alameda   \n",
      "14            6.0         White      CO        6001.0     Alameda     Alameda   \n",
      "\n",
      "    county_fips  ... median_income  affordability_ratio  \\\n",
      "0           NaN  ...       23777.0             0.315779   \n",
      "1           NaN  ...       38508.0             0.194980   \n",
      "2           NaN  ...       26192.0             0.286664   \n",
      "3           NaN  ...       22858.0             0.328475   \n",
      "4           NaN  ...       36737.0             0.204379   \n",
      "5           NaN  ...       38641.0             0.194309   \n",
      "6           NaN  ...       32866.0             0.228452   \n",
      "7           NaN  ...       30439.0             0.246667   \n",
      "8           NaN  ...       28184.0             0.266403   \n",
      "9        6001.0  ...       16063.0             0.450857   \n",
      "10       6001.0  ...       42048.0             0.172235   \n",
      "11       6001.0  ...       23858.0             0.303551   \n",
      "12       6001.0  ...       28917.0             0.250445   \n",
      "13       6001.0  ...       35238.0             0.205520   \n",
      "14       6001.0  ...       50497.0             0.143417   \n",
      "\n",
      "    LL95_affordability_ratio  UL95_affordability_ratio  se_food_afford  \\\n",
      "0                   0.231517                  0.400043        0.042991   \n",
      "1                   0.183065                  0.206895        0.006079   \n",
      "2                   0.279661                  0.293666        0.003573   \n",
      "3                   0.322637                  0.334314        0.002979   \n",
      "4                   0.173762                  0.234997        0.015621   \n",
      "5                   0.189570                  0.199048        0.002418   \n",
      "6                   0.210008                  0.246896        0.009410   \n",
      "7                   0.176559                  0.316775        0.035769   \n",
      "8                   0.262832                  0.269973        0.001821   \n",
      "9                   0.087869                  0.813846        0.185198   \n",
      "10                  0.121394                  0.223075        0.025939   \n",
      "11                  0.266850                  0.340253        0.018725   \n",
      "12                  0.214028                  0.286862        0.018580   \n",
      "13                  0.124903                  0.286138        0.041131   \n",
      "14                  0.134053                  0.152780        0.004777   \n",
      "\n",
      "    rse_food_afford  food_afford_decile  CA_RR_Affordability  ave_fam_size  \\\n",
      "0         13.614342                 NaN             1.185347          3.34   \n",
      "1          3.117814                 NaN             0.731900          3.34   \n",
      "2          1.246349                 NaN             1.076054          3.34   \n",
      "3          0.906881                 NaN             1.233004          3.34   \n",
      "4          7.643255                 NaN             0.767183          3.34   \n",
      "5          1.244406                 NaN             0.729381          3.34   \n",
      "6          4.119149                 NaN             0.857543          3.34   \n",
      "7         14.501074                 NaN             0.925917          3.34   \n",
      "8          0.683740                 NaN             1.000000          3.34   \n",
      "9         41.076862                 NaN             1.692392          3.21   \n",
      "10        15.060224                 NaN             0.646520          3.21   \n",
      "11         6.168717                 NaN             1.139445          3.21   \n",
      "12         7.418781                 NaN             0.940101          3.21   \n",
      "13        20.013280                 NaN             0.771465          3.21   \n",
      "14         3.331023                 NaN             0.538346          3.21   \n",
      "\n",
      "           version  \n",
      "0   4/12/2013 4:33  \n",
      "1   4/12/2013 4:33  \n",
      "2   4/12/2013 4:33  \n",
      "3   4/12/2013 4:33  \n",
      "4   4/12/2013 4:33  \n",
      "5   4/12/2013 4:33  \n",
      "6   4/12/2013 4:33  \n",
      "7   4/12/2013 4:33  \n",
      "8   4/12/2013 4:33  \n",
      "9   4/12/2013 4:33  \n",
      "10  4/12/2013 4:33  \n",
      "11  4/12/2013 4:33  \n",
      "12  4/12/2013 4:33  \n",
      "13  4/12/2013 4:33  \n",
      "14  4/12/2013 4:33  \n",
      "\n",
      "[15 rows x 23 columns]\n",
      "**********\n",
      "Showing info of dataset\n",
      "       ind_id                                     ind_definition reportyear  \\\n",
      "count   14365                                              14364      14364   \n",
      "unique      2                                                  1          1   \n",
      "top       757  Food affordability for female-headed household...  2006-2010   \n",
      "freq    14364                                              14364      14364   \n",
      "mean      NaN                                                NaN        NaN   \n",
      "std       NaN                                                NaN        NaN   \n",
      "min       NaN                                                NaN        NaN   \n",
      "25%       NaN                                                NaN        NaN   \n",
      "50%       NaN                                                NaN        NaN   \n",
      "75%       NaN                                                NaN        NaN   \n",
      "max       NaN                                                NaN        NaN   \n",
      "\n",
      "        race_eth_code race_eth_name geotype  geotypevalue         geoname  \\\n",
      "count    14364.000000         14364   14364  14364.000000           14364   \n",
      "unique            NaN             9       4           NaN            1581   \n",
      "top               NaN     AfricanAm      PL           NaN  Strawberry CDP   \n",
      "freq              NaN          1596   13707           NaN              18   \n",
      "mean         5.000000           NaN     NaN  40680.393484             NaN   \n",
      "std          2.582079           NaN     NaN  25834.492705             NaN   \n",
      "min          1.000000           NaN     NaN      1.000000             NaN   \n",
      "25%          3.000000           NaN     NaN  17480.500000             NaN   \n",
      "50%          5.000000           NaN     NaN  40382.000000             NaN   \n",
      "75%          7.000000           NaN     NaN  60609.500000             NaN   \n",
      "max          9.000000           NaN     NaN  87090.000000             NaN   \n",
      "\n",
      "        county_name   county_fips  ...  median_income  affordability_ratio  \\\n",
      "count         14229  14229.000000  ...    3473.000000          3473.000000   \n",
      "unique           58           NaN  ...            NaN                  NaN   \n",
      "top     Los Angeles           NaN  ...            NaN                  NaN   \n",
      "freq           1278           NaN  ...            NaN                  NaN   \n",
      "mean            NaN   6057.977862  ...   35985.685081             0.357114   \n",
      "std             NaN     31.048709  ...   27436.558125             0.451169   \n",
      "min             NaN   6001.000000  ...    2500.000000             0.021258   \n",
      "25%             NaN   6035.000000  ...   20219.000000             0.158028   \n",
      "50%             NaN   6059.000000  ...   30371.000000             0.245429   \n",
      "75%             NaN   6083.000000  ...   44083.000000             0.381940   \n",
      "max             NaN   6115.000000  ...  250000.000000             4.852371   \n",
      "\n",
      "        LL95_affordability_ratio  UL95_affordability_ratio  se_food_afford  \\\n",
      "count                3285.000000               3285.000000     3285.000000   \n",
      "unique                       NaN                       NaN             NaN   \n",
      "top                          NaN                       NaN             NaN   \n",
      "freq                         NaN                       NaN             NaN   \n",
      "mean                    0.105307                  0.882108        0.295230   \n",
      "std                     0.117439                  3.200605        1.568641   \n",
      "min                     0.000000                  0.041421        0.000903   \n",
      "25%                     0.000000                  0.239877        0.029374   \n",
      "50%                     0.077821                  0.381348        0.063821   \n",
      "75%                     0.165909                  0.658876        0.154163   \n",
      "max                     0.850556                108.783721       54.965397   \n",
      "\n",
      "        rse_food_afford  food_afford_decile  CA_RR_Affordability  \\\n",
      "count       3285.000000          960.000000          3473.000000   \n",
      "unique              NaN                 NaN                  NaN   \n",
      "top                 NaN                 NaN                  NaN   \n",
      "freq                NaN                 NaN                  NaN   \n",
      "mean          59.221472            5.500000             1.340507   \n",
      "std          139.191814            2.873778             1.693561   \n",
      "min            0.683740            1.000000             0.079797   \n",
      "25%           14.351806            3.000000             0.593193   \n",
      "50%           30.083705            5.500000             0.921273   \n",
      "75%           61.209242            8.000000             1.433696   \n",
      "max         5227.123987           10.000000            18.214432   \n",
      "\n",
      "        ave_fam_size         version  \n",
      "count   12096.000000           14364  \n",
      "unique           NaN               1  \n",
      "top              NaN  4/12/2013 4:33  \n",
      "freq             NaN           14364  \n",
      "mean        3.175714             NaN  \n",
      "std         0.762813             NaN  \n",
      "min         1.360000             NaN  \n",
      "25%         2.660000             NaN  \n",
      "50%         3.130000             NaN  \n",
      "75%         3.550000             NaN  \n",
      "max         7.200000             NaN  \n",
      "\n",
      "[11 rows x 23 columns]\n"
     ]
    }
   ],
   "source": [
    "showDataHeadAndInfo(datasetupUnprocessed,head_Value)"
   ]
  },
  {
   "cell_type": "markdown",
   "metadata": {},
   "source": [
    "# Exploratory plotting"
   ]
  },
  {
   "cell_type": "code",
   "execution_count": 8,
   "metadata": {
    "scrolled": false
   },
   "outputs": [
    {
     "data": {
      "image/png": "[encoded data removed]",
      "text/plain": [
       "<Figure size 576x396 with 1 Axes>"
      ]
     },
     "metadata": {},
     "output_type": "display_data"
    },
    {
     "data": {
      "image/png": "[encoded data removed]",
      "text/plain": [
       "<Figure size 576x396 with 1 Axes>"
      ]
     },
     "metadata": {},
     "output_type": "display_data"
    },
    {
     "data": {
      "image/png": "[encoded data removed]",
      "text/plain": [
       "<Figure size 576x396 with 1 Axes>"
      ]
     },
     "metadata": {},
     "output_type": "display_data"
    },
    {
     "data": {
      "text/plain": [
       "<Figure size 576x396 with 0 Axes>"
      ]
     },
     "metadata": {},
     "output_type": "display_data"
    },
    {
     "data": {
      "image/png": "[encoded data removed]",
      "text/plain": [
       "<Figure size 576x396 with 1 Axes>"
      ]
     },
     "metadata": {},
     "output_type": "display_data"
    },
    {
     "data": {
      "text/plain": [
       "<Figure size 576x396 with 0 Axes>"
      ]
     },
     "metadata": {},
     "output_type": "display_data"
    }
   ],
   "source": [
    "plotting(datasetupUnprocessed , \"BeforeProcessing\")"
   ]
  },
  {
   "cell_type": "markdown",
   "metadata": {},
   "source": [
    "# preProcessing"
   ]
  },
  {
   "cell_type": "code",
   "execution_count": 9,
   "metadata": {
    "scrolled": false
   },
   "outputs": [
    {
     "name": "stdout",
     "output_type": "stream",
     "text": [
      "0    1997\n",
      "1    1219\n",
      "Name: affordability_ratio, dtype: int64\n",
      "showing head 15 values\n",
      "    race_eth_code  median_income  affordability_ratio  ave_fam_size\n",
      "0             1.0        23777.0                    0          3.34\n",
      "1             2.0        38508.0                    1          3.34\n",
      "2             3.0        26192.0                    0          3.34\n",
      "3             4.0        22858.0                    0          3.34\n",
      "4             5.0        36737.0                    0          3.34\n",
      "5             6.0        38641.0                    1          3.34\n",
      "6             7.0        32866.0                    0          3.34\n",
      "7             8.0        30439.0                    0          3.34\n",
      "8             9.0        28184.0                    0          3.34\n",
      "9             1.0        16063.0                    0          3.21\n",
      "10            2.0        42048.0                    1          3.21\n",
      "11            3.0        23858.0                    0          3.21\n",
      "12            4.0        28917.0                    0          3.21\n",
      "13            5.0        35238.0                    0          3.21\n",
      "14            6.0        50497.0                    1          3.21\n",
      "**********\n",
      "Showing info of dataset\n",
      "       race_eth_code  median_income  affordability_ratio  ave_fam_size\n",
      "count    3216.000000    3216.000000          3216.000000   3216.000000\n",
      "mean        5.899876   34809.645833             0.379042      3.220725\n",
      "std         2.484650   19849.167081             0.485224      0.474311\n",
      "min         1.000000    2500.000000             0.000000      1.940000\n",
      "25%         4.000000   20740.500000             0.000000      2.900000\n",
      "50%         6.000000   30801.000000             0.000000      3.220000\n",
      "75%         9.000000   44216.500000             1.000000      3.500000\n",
      "max         9.000000  119342.000000             1.000000      4.790000\n"
     ]
    }
   ],
   "source": [
    "preProcessing()\n",
    "showDataHeadAndInfo(dataSetUp,head_Value)\n"
   ]
  },
  {
   "cell_type": "markdown",
   "metadata": {},
   "source": [
    "# Plotting post Cleanup"
   ]
  },
  {
   "cell_type": "code",
   "execution_count": 10,
   "metadata": {
    "scrolled": false
   },
   "outputs": [
    {
     "data": {
      "image/png": "[encoded data removed]",
      "text/plain": [
       "<Figure size 576x396 with 1 Axes>"
      ]
     },
     "metadata": {},
     "output_type": "display_data"
    },
    {
     "data": {
      "image/png": "[encoded data removed]",
      "text/plain": [
       "<Figure size 576x396 with 1 Axes>"
      ]
     },
     "metadata": {},
     "output_type": "display_data"
    },
    {
     "data": {
      "image/png": "[encoded data removed]",
      "text/plain": [
       "<Figure size 576x396 with 1 Axes>"
      ]
     },
     "metadata": {},
     "output_type": "display_data"
    },
    {
     "data": {
      "text/plain": [
       "<Figure size 576x396 with 0 Axes>"
      ]
     },
     "metadata": {},
     "output_type": "display_data"
    },
    {
     "data": {
      "image/png": "[encoded data removed]",
      "text/plain": [
       "<Figure size 576x396 with 1 Axes>"
      ]
     },
     "metadata": {},
     "output_type": "display_data"
    },
    {
     "data": {
      "text/plain": [
       "<Figure size 576x396 with 0 Axes>"
      ]
     },
     "metadata": {},
     "output_type": "display_data"
    }
   ],
   "source": [
    "plotting(dataSetUp, \"PostProcessing\")"
   ]
  },
  {
   "cell_type": "markdown",
   "metadata": {},
   "source": [
    "Check Corellation"
   ]
  },
  {
   "cell_type": "code",
   "execution_count": 11,
   "metadata": {
    "scrolled": false
   },
   "outputs": [
    {
     "data": {
      "text/html": [
       "<div>\n",
       "<style scoped>\n",
       "    .dataframe tbody tr th:only-of-type {\n",
       "        vertical-align: middle;\n",
       "    }\n",
       "\n",
       "    .dataframe tbody tr th {\n",
       "        vertical-align: top;\n",
       "    }\n",
       "\n",
       "    .dataframe thead th {\n",
       "        text-align: right;\n",
       "    }\n",
       "</style>\n",
       "<table border=\"1\" class=\"dataframe\">\n",
       "  <thead>\n",
       "    <tr style=\"text-align: right;\">\n",
       "      <th></th>\n",
       "      <th>race_eth_code</th>\n",
       "      <th>median_income</th>\n",
       "      <th>affordability_ratio</th>\n",
       "      <th>ave_fam_size</th>\n",
       "    </tr>\n",
       "  </thead>\n",
       "  <tbody>\n",
       "    <tr>\n",
       "      <th>race_eth_code</th>\n",
       "      <td>1.000000</td>\n",
       "      <td>-0.002623</td>\n",
       "      <td>0.018847</td>\n",
       "      <td>-0.078065</td>\n",
       "    </tr>\n",
       "    <tr>\n",
       "      <th>median_income</th>\n",
       "      <td>-0.002623</td>\n",
       "      <td>1.000000</td>\n",
       "      <td>0.762884</td>\n",
       "      <td>-0.208589</td>\n",
       "    </tr>\n",
       "    <tr>\n",
       "      <th>affordability_ratio</th>\n",
       "      <td>0.018847</td>\n",
       "      <td>0.762884</td>\n",
       "      <td>1.000000</td>\n",
       "      <td>-0.357839</td>\n",
       "    </tr>\n",
       "    <tr>\n",
       "      <th>ave_fam_size</th>\n",
       "      <td>-0.078065</td>\n",
       "      <td>-0.208589</td>\n",
       "      <td>-0.357839</td>\n",
       "      <td>1.000000</td>\n",
       "    </tr>\n",
       "  </tbody>\n",
       "</table>\n",
       "</div>"
      ],
      "text/plain": [
       "                     race_eth_code  median_income  affordability_ratio  \\\n",
       "race_eth_code             1.000000      -0.002623             0.018847   \n",
       "median_income            -0.002623       1.000000             0.762884   \n",
       "affordability_ratio       0.018847       0.762884             1.000000   \n",
       "ave_fam_size             -0.078065      -0.208589            -0.357839   \n",
       "\n",
       "                     ave_fam_size  \n",
       "race_eth_code           -0.078065  \n",
       "median_income           -0.208589  \n",
       "affordability_ratio     -0.357839  \n",
       "ave_fam_size             1.000000  "
      ]
     },
     "execution_count": 11,
     "metadata": {},
     "output_type": "execute_result"
    }
   ],
   "source": [
    "dataSetUp.corr()"
   ]
  },
  {
   "cell_type": "markdown",
   "metadata": {},
   "source": [
    "# Check VIF"
   ]
  },
  {
   "cell_type": "code",
   "execution_count": 12,
   "metadata": {
    "scrolled": false
   },
   "outputs": [
    {
     "name": "stdout",
     "output_type": "stream",
     "text": [
      "               feature       VIF\n",
      "0        race_eth_code  5.828060\n",
      "1        median_income  9.711446\n",
      "2  affordability_ratio  4.136264\n",
      "3         ave_fam_size  8.492811\n"
     ]
    }
   ],
   "source": [
    "vifCheck(dataSetUp)"
   ]
  },
  {
   "cell_type": "markdown",
   "metadata": {},
   "source": [
    "# Predictor Importance"
   ]
  },
  {
   "cell_type": "code",
   "execution_count": 13,
   "metadata": {
    "scrolled": false
   },
   "outputs": [
    {
     "name": "stdout",
     "output_type": "stream",
     "text": [
      "Feature: 0, Score: 0.00621\n",
      "Feature: 1, Score: 0.00073\n",
      "Feature: 2, Score: -7.73580\n"
     ]
    },
    {
     "data": {
      "image/png": "[encoded data removed]",
      "text/plain": [
       "<Figure size 576x396 with 1 Axes>"
      ]
     },
     "metadata": {},
     "output_type": "display_data"
    }
   ],
   "source": [
    "predictorImportance()"
   ]
  },
  {
   "cell_type": "markdown",
   "metadata": {},
   "source": [
    "# separate dependent and independent variables"
   ]
  },
  {
   "cell_type": "code",
   "execution_count": 14,
   "metadata": {
    "scrolled": false
   },
   "outputs": [],
   "source": [
    "X = dataSetUp.drop(DependentVariable, axis=1)\n",
    "y = dataSetUp[DependentVariable]"
   ]
  },
  {
   "cell_type": "markdown",
   "metadata": {},
   "source": [
    "# Pearsons Analysis"
   ]
  },
  {
   "cell_type": "code",
   "execution_count": 15,
   "metadata": {
    "scrolled": false
   },
   "outputs": [
    {
     "data": {
      "image/png": "[encoded data removed]",
      "text/plain": [
       "<Figure size 576x396 with 2 Axes>"
      ]
     },
     "metadata": {},
     "output_type": "display_data"
    },
    {
     "data": {
      "text/plain": [
       "<AxesSubplot:title={'center':'Pearson Ranking of 3 Features'}>"
      ]
     },
     "execution_count": 15,
     "metadata": {},
     "output_type": "execute_result"
    }
   ],
   "source": [
    "visualizer = Rank2D(algorithm='pearson')\n",
    "visualizer.fit(X, y)\n",
    "visualizer.transform(X)\n",
    "visualizer.show()"
   ]
  },
  {
   "cell_type": "markdown",
   "metadata": {},
   "source": [
    "# ClassBalance "
   ]
  },
  {
   "cell_type": "code",
   "execution_count": 16,
   "metadata": {
    "scrolled": false
   },
   "outputs": [
    {
     "data": {
      "image/png": "[encoded data removed]",
      "text/plain": [
       "<Figure size 576x396 with 1 Axes>"
      ]
     },
     "metadata": {},
     "output_type": "display_data"
    },
    {
     "data": {
      "text/plain": [
       "<AxesSubplot:title={'center':'Class Balance for 3,216 Instances'}, ylabel='support'>"
      ]
     },
     "execution_count": 16,
     "metadata": {},
     "output_type": "execute_result"
    }
   ],
   "source": [
    "visualizer = ClassBalance(labels=[\"Cant Afford\", \"Can Afford\"])\n",
    "visualizer.fit(y)        # Fit the data to the visualizer\n",
    "visualizer.show()        # Finalize and render the figure"
   ]
  },
  {
   "cell_type": "markdown",
   "metadata": {},
   "source": [
    "# Split Dataset into train and test dataset"
   ]
  },
  {
   "cell_type": "code",
   "execution_count": 17,
   "metadata": {
    "scrolled": false
   },
   "outputs": [],
   "source": [
    "trainDataset()"
   ]
  },
  {
   "cell_type": "markdown",
   "metadata": {},
   "source": [
    "# Create a dict of models to use"
   ]
  },
  {
   "cell_type": "code",
   "execution_count": 18,
   "metadata": {
    "scrolled": false
   },
   "outputs": [],
   "source": [
    "dict_classifiers = {\n",
    "    \"rfc\": RandomForestClassifier(n_estimators=200),\n",
    "    \"clf\": svm.SVC(),\n",
    "    \"mlpc\": MLPClassifier(hidden_layer_sizes=(11, 11, 11), max_iter=500,  random_state=1),\n",
    "    \"lr\": LogisticRegression(),\n",
    "}"
   ]
  },
  {
   "cell_type": "markdown",
   "metadata": {},
   "source": [
    "# Train and Print Details"
   ]
  },
  {
   "cell_type": "code",
   "execution_count": 20,
   "metadata": {
    "scrolled": false
   },
   "outputs": [
    {
     "data": {
      "text/markdown": [
       "<h2 span style=\"color: #2A52bE; font-size:150%\">Model Evaluation RandomForestClassifier(n_estimators=200)</span>\n"
      ],
      "text/plain": [
       "<IPython.core.display.Markdown object>"
      ]
     },
     "metadata": {},
     "output_type": "display_data"
    },
    {
     "data": {
      "image/png": "[encoded data removed]",
      "text/plain": [
       "<Figure size 576x396 with 1 Axes>"
      ]
     },
     "metadata": {},
     "output_type": "display_data"
    },
    {
     "ename": "TypeError",
     "evalue": "'numpy.float64' object is not callable",
     "output_type": "error",
     "traceback": [
      "\u001b[1;31m---------------------------------------------------------------------------\u001b[0m",
      "\u001b[1;31mTypeError\u001b[0m                                 Traceback (most recent call last)",
      "\u001b[1;32m<ipython-input-20-b9ee7997d5ca>\u001b[0m in \u001b[0;36m<module>\u001b[1;34m\u001b[0m\n\u001b[0;32m     28\u001b[0m \u001b[1;33m\u001b[0m\u001b[0m\n\u001b[0;32m     29\u001b[0m     \u001b[0mrmse\u001b[0m\u001b[1;33m=\u001b[0m\u001b[0mmean_squared_error\u001b[0m\u001b[1;33m(\u001b[0m\u001b[0my_test\u001b[0m\u001b[1;33m,\u001b[0m \u001b[0my_score\u001b[0m\u001b[1;33m)\u001b[0m\u001b[1;33m\u001b[0m\u001b[1;33m\u001b[0m\u001b[0m\n\u001b[1;32m---> 30\u001b[1;33m     \u001b[0mr2\u001b[0m \u001b[1;33m=\u001b[0m \u001b[0mr2_score\u001b[0m\u001b[1;33m(\u001b[0m\u001b[0my_test\u001b[0m\u001b[1;33m,\u001b[0m \u001b[0my_score\u001b[0m\u001b[1;33m)\u001b[0m\u001b[1;33m\u001b[0m\u001b[1;33m\u001b[0m\u001b[0m\n\u001b[0m\u001b[0;32m     31\u001b[0m \u001b[1;33m\u001b[0m\u001b[0m\n\u001b[0;32m     32\u001b[0m \u001b[1;33m\u001b[0m\u001b[0m\n",
      "\u001b[1;31mTypeError\u001b[0m: 'numpy.float64' object is not callable"
     ]
    }
   ],
   "source": [
    "for model, model_instantiation in dict_classifiers.items():\n",
    "    model = model_instantiation\n",
    "    model.fit(X_train, y_train)\n",
    "    y_score = model.predict(X_test)\n",
    "    # yellow brick\n",
    "    cm = ConfusionMatrix(model, classes=[0,1])\n",
    "    cm.fit(X_train, y_train)\n",
    "    cm.score(X_test, y_test)\n",
    "    \n",
    "    confusion_Matrix = confusion_matrix(y_test, y_score)\n",
    "    \n",
    "    \n",
    "    display (Markdown(f'<h2 span style=\"color: #2A52bE; font-size:150%\">Model Evaluation {model}</span>\\n'))\n",
    "    #print(f\"Printing Model details for : {model}\\n\")          \n",
    "    cm.show()\n",
    "    cm = accuracy_score(y_test, y_score)\n",
    "    errorRate = 1-cm    \n",
    "    tn, fp, fn, tp = confusion_matrix(y_test, y_score).ravel()\n",
    "    specificity = tn / (tn+fp)\n",
    "    sensitivity = tp / (tp+fn) \n",
    "    #Precision is defined as the fraction of relevant examples (true positives) among all of the examples which were predicted to belong in a certain class.\n",
    "    precision = tp / (tp + fp)\n",
    "    \n",
    "    #Recall is defined as the fraction of examples which were predicted to belong to a class with respect to all of the examples that truly belong in the class.\n",
    "    recall = tp/(tp+fn)\n",
    "    \n",
    "    F1 = 2 * (precision * recall) / (precision + recall)\n",
    "    \n",
    "    rmse=mean_squared_error(y_test, y_score)\n",
    "\n",
    "    \n",
    "    \n",
    "    bs=balanced_accuracy_score(y_test, y_score)\n",
    "    display (Markdown(f'<span style=\"color: #2A52bE\">Classification Report\\n</span>'))    \n",
    "    display (Markdown(f'{classification_report(y_test, y_score)}'))\n",
    "    print('\\n')\n",
    "    #print(f\"Printing Classification Report\\n {classification_report(y_test, y_score)}\\n\")\n",
    "    #display (Markdown(f'<span style=\"color: #00FF00\">Classification Report \\n </span>{classification_report(y_test, y_score)}'))\n",
    "    display (Markdown(f'<span style=\"color: #2A52bE\">Accuracy Rate = </span>{cm}'))\n",
    "    display (Markdown(f'<span style=\"color: #2A52bE\">Error Rate = </span>{errorRate}'))\n",
    "    display (Markdown(f'<span style=\"color: #2A52bE\">Root Mean Square Error = </span>{rmse}\\n'))\n",
    "    display (Markdown(f'<span style=\"color: #2A52bE\">Specificity = </span>{specificity}'))\n",
    "    display (Markdown(f'<span style=\"color: #2A52bE\">Sensitivity = </span>{sensitivity}'))\n",
    "    display (Markdown(f'<span style=\"color: #2A52bE\">Balance Accuracy = </span>{bs}\\n'))\n",
    "    display (Markdown(f'<span style=\"color: #2A52bE\">Precision = </span>{precision}\\n'))\n",
    "    display (Markdown(f'<span style=\"color: #2A52bE\">Recall = </span>{recall}\\n'))\n",
    "    display (Markdown(f'<span style=\"color: #2A52bE\">F1 Score = </span>{F1}\\n'))\n",
    "\n",
    "    \n"
   ]
  },
  {
   "cell_type": "markdown",
   "metadata": {},
   "source": [
    "# Plot ROC Chart"
   ]
  },
  {
   "cell_type": "code",
   "execution_count": null,
   "metadata": {},
   "outputs": [],
   "source": [
    "rocChart()"
   ]
  },
  {
   "cell_type": "markdown",
   "metadata": {},
   "source": [
    "# Predictive Analysis"
   ]
  },
  {
   "cell_type": "code",
   "execution_count": null,
   "metadata": {},
   "outputs": [],
   "source": [
    "mlpc = MLPClassifier(hidden_layer_sizes=(11, 11, 11), max_iter=500,  random_state=randomstate)\n",
    "mlpc.fit(X_train, y_train)\n"
   ]
  },
  {
   "cell_type": "markdown",
   "metadata": {},
   "source": [
    "# test first item in test data"
   ]
  },
  {
   "cell_type": "code",
   "execution_count": null,
   "metadata": {},
   "outputs": [],
   "source": [
    "Xnew = X_test[[0]]\n",
    "pred_mlpc = mlpc.predict(X_test)\n",
    "ynew = mlpc.predict(Xnew)\n",
    "if ynew == 0:\n",
    "    print(f\"I am too poor to afford food\")\n",
    "else:\n",
    "    print(f\"I will survive\")"
   ]
  },
  {
   "cell_type": "markdown",
   "metadata": {},
   "source": [
    "# Set up variables for adhoc test (User Configurable)"
   ]
  },
  {
   "cell_type": "code",
   "execution_count": null,
   "metadata": {},
   "outputs": [],
   "source": [
    "ynew = 0 # Do not Change\n",
    "income = 20000\n",
    "famSize = 3\n",
    "raceIndicator = 9\n",
    "\n",
    " # 0 - Non White / 1 - White\n",
    "IncomeIncreaseIterator = 50 # value used to fine tune income increase\n",
    "Xnew = [[raceIndicator, income, famSize]]\n",
    "Xnew1 = sc.transform(Xnew)"
   ]
  },
  {
   "cell_type": "markdown",
   "metadata": {},
   "source": [
    "# Define Iterator"
   ]
  },
  {
   "cell_type": "code",
   "execution_count": null,
   "metadata": {},
   "outputs": [],
   "source": [
    "while ynew == 0:\n",
    "    Xnew1 = sc.transform(Xnew)\n",
    "    ynew = mlpc.predict(Xnew1)\n",
    "    print(f'new ynew: {ynew} for xnew: {Xnew}')\n",
    "    if ynew == 1:\n",
    "        print(f\"VVVVVVVVVVVVVVVVVVVVVVVVVVVVVVVVVVVVVVVVVVVVVVVVVVV You will Be fine at current cost below \"\n",
    "              f\"VVVVVVVVVVVVVVVVVVVVVVVVVVVVVVVVVVVVVVVVVVVVVVVVVVVV\")\n",
    "        break\n",
    "    else:\n",
    "        income=income+IncomeIncreaseIterator\n",
    "        print(f\"HMM you need to earn more iterating to find you an optimal amount trying {Xnew} \")\n",
    "        Xnew = [[raceIndicator, income , famSize]]\n",
    "        Xnew1 = sc.transform(Xnew)\n",
    "        ynew = mlpc.predict(Xnew1)\n",
    "\n",
    "print(f\"***********************************************-- \"\n",
    "      f\"We suggest you earn ${Xnew[0][1]} for family counts of {Xnew[0][2]} \"\n",
    "      f\" --***********************************************\")\n"
   ]
  },
  {
   "cell_type": "code",
   "execution_count": null,
   "metadata": {},
   "outputs": [],
   "source": []
  },
  {
   "cell_type": "code",
   "execution_count": null,
   "metadata": {},
   "outputs": [],
   "source": []
  },
  {
   "cell_type": "code",
   "execution_count": null,
   "metadata": {},
   "outputs": [],
   "source": []
  }
 ],
 "metadata": {
  "kernelspec": {
   "display_name": "Python 3",
   "language": "python",
   "name": "python3"
  },
  "language_info": {
   "codemirror_mode": {
    "name": "ipython",
    "version": 3
   },
   "file_extension": ".py",
   "mimetype": "text/x-python",
   "name": "python",
   "nbconvert_exporter": "python",
   "pygments_lexer": "ipython3",
   "version": "3.9.0"
  }
 },
 "nbformat": 4,
 "nbformat_minor": 1
}
