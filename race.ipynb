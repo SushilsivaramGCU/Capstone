{
 "cells": [
  {
   "cell_type": "markdown",
   "metadata": {},
   "source": [
    "# docs"
   ]
  },
  {
   "cell_type": "code",
   "execution_count": 8,
   "metadata": {
    "scrolled": false
   },
   "outputs": [],
   "source": [
    "#!/usr/bin/env python\n",
    "\n",
    "__author__ = \"Sushil Sivaram, Megha Gubbala\", \"Sylvia Nanyangwe\"\n",
    "__copyright__ = \"N/A\"\n",
    "__credits__ = [\"Isac Artzi\", \"Dinesh Sthapit\", \"Ken Ferrell\", \"James Dzikunu\", \"Tracy Roth\", \"Renee Morales\"]\n",
    "__license__ = \"ECL\"\n",
    "__maintainer__ = \"Sushil Sivaram, Megha Gubbala\", \"Sylvia Nanyangwe\"\n",
    "__email__ = \"SushilSivaram@gmail.com\"\n",
    "__status__ = \"Development\""
   ]
  },
  {
   "cell_type": "markdown",
   "metadata": {
    "collapsed": true
   },
   "source": [
    "# This section shows the imports used by the code"
   ]
  },
  {
   "cell_type": "code",
   "execution_count": 9,
   "metadata": {
    "scrolled": false
   },
   "outputs": [],
   "source": [
    "from matplotlib import pyplot\n",
    "from scipy import stats\n",
    "import pandas as pd\n",
    "import numpy as np\n",
    "import os\n",
    "from dotenv import load_dotenv\n",
    "from sklearn import svm\n",
    "from sklearn.linear_model import LogisticRegression, LinearRegression\n",
    "from sklearn.ensemble import RandomForestClassifier\n",
    "from sklearn.metrics import confusion_matrix, classification_report, accuracy_score\n",
    "from sklearn.model_selection import train_test_split\n",
    "from sklearn.neural_network import MLPClassifier\n",
    "from sklearn.preprocessing import LabelEncoder, StandardScaler\n",
    "from yellowbrick.features import Rank2D\n",
    "from yellowbrick.target import ClassBalance\n",
    "from yellowbrick.classifier import ConfusionMatrix\n",
    "from sklearn.naive_bayes import GaussianNB\n",
    "import matplotlib.pyplot as plt\n",
    "import scikitplot as skplt\n",
    "from statsmodels.stats.outliers_influence import variance_inflation_factor\n",
    "from IPython.display import FileLink\n",
    "import warnings\n",
    "warnings.filterwarnings('ignore')\n",
    "from sklearn.decomposition import PCA"
   ]
  },
  {
   "cell_type": "markdown",
   "metadata": {},
   "source": [
    "# Define Variables"
   ]
  },
  {
   "cell_type": "code",
   "execution_count": 10,
   "metadata": {
    "scrolled": false
   },
   "outputs": [],
   "source": [
    "load_dotenv()\n",
    "CSVData = os.getenv('CSVOriginal')\n",
    "DependentVariable = os.getenv('DependentVariable')\n",
    "head_Value = int(os.getenv('Head_Value'))\n",
    "testSize = float(os.getenv('test_size'))\n",
    "randomstate = int(os.getenv('random_state'))"
   ]
  },
  {
   "cell_type": "markdown",
   "metadata": {},
   "source": [
    "# Setup Reusable Functions"
   ]
  },
  {
   "cell_type": "code",
   "execution_count": 11,
   "metadata": {
    "scrolled": false
   },
   "outputs": [],
   "source": [
    "\n",
    "# Load Data from CSV\n",
    "def loadAndExtractData():\n",
    "    global dataSetUp\n",
    "    global datasetupUnprocessed\n",
    "    dataSetUp = pd.read_csv(CSVData)\n",
    "    datasetupUnprocessed = dataSetUp\n",
    "    keepcolumns = [#'LL95_affordability_ratio', 'UL95_affordability_ratio',\n",
    "                   'race_eth_code','median_income','affordability_ratio', 'ave_fam_size']\n",
    "    dataSetUp =dataSetUp.filter(keepcolumns)\n",
    "    for keep in keepcolumns:\n",
    "        dataSetUp = dataSetUp[dataSetUp[keep].notna()]\n",
    "    dataSetUp= dataSetUp[(np.abs(stats.zscore(dataSetUp)) < 3).all(axis=1)]\n",
    "    dataSetUp.to_csv('cleaned.csv', index=False)\n",
    "    display(FileLink('cleaned.csv'))\n",
    "    print (dataSetUp.shape)\n",
    "\n",
    "\n",
    "#print Info\n",
    "def showDataHeadAndInfo(data,headCount):\n",
    "    print(f\"showing head {headCount} values\")\n",
    "    print(data.head(headCount))\n",
    "    print(\"**********\")\n",
    "    print(\"Showing info of dataset\")\n",
    "    print(data.describe(include='all'))\n",
    "\n",
    "\n",
    "# preProcessing\n",
    "def preProcessing():\n",
    "    bins = (0, .2, 5)\n",
    "    group_names = ['Cant Afford', 'Can Afford']\n",
    "    dataSetUp[DependentVariable] = pd.cut(dataSetUp[DependentVariable], bins, labels=group_names)\n",
    "    dataSetUp.to_csv('test.csv')\n",
    "    label_quality = LabelEncoder()\n",
    "    dataSetUp[DependentVariable] = label_quality.fit_transform(dataSetUp[DependentVariable])\n",
    "    #showDataHeadAndInfo(head_Value)\n",
    "    print(dataSetUp[DependentVariable].value_counts())\n",
    "\n",
    "\n",
    "#plotting\n",
    "def plotting(dataSetUp, state):\n",
    "    plt.figure()\n",
    "    histmedian_income = dataSetUp['median_income'].plot.hist(bins=25, grid=True, rwidth=0.9, color='#607c8e')\n",
    "    plt.title(f'Histogram of Median Income {state}')\n",
    "    plt.xlabel('Median Income in $')\n",
    "    plt.ylabel('Count')\n",
    "    plt.grid(axis='y', alpha=0.5)\n",
    "    histmedian_income.figure.savefig(f'.\\outputs\\histMedianIncome{state}.png')\n",
    "\n",
    "    plt.figure()\n",
    "    hist_avg_fam = dataSetUp['ave_fam_size'].plot.hist(bins=25,  grid=True, rwidth=0.9, color='#607c8e')\n",
    "    plt.title(f'Histogram of Family Size {state}')\n",
    "    plt.xlabel('Family Size')\n",
    "    plt.ylabel('Count')\n",
    "    plt.grid(axis='y', alpha=0.5)\n",
    "    hist_avg_fam.figure.savefig(f'.\\outputs\\histavgFamsize{state}.png')\n",
    "\n",
    "    plt.figure()\n",
    "    hist_race_eth_name = dataSetUp['race_eth_code'].plot.hist(bins=2, grid=True, rwidth=0.9, color='#607c8e')\n",
    "    plt.title(f'Histogram race distribution {state}')\n",
    "    plt.xlabel('Race')\n",
    "    plt.ylabel('Count')\n",
    "    plt.grid(axis='y', alpha=0.5)\n",
    "    hist_race_eth_name.figure.savefig(f'.\\outputs\\histCost{state}.png')\n",
    "\n",
    "    plt.figure()\n",
    "    scattermedian_income = dataSetUp.plot.scatter(c='DarkBlue', x='median_income', y = 'ave_fam_size' )\n",
    "    plt.title(f'scatterogram of Median Income vs Expenditure {state}')\n",
    "    plt.xlabel('Median Income in $')\n",
    "    plt.ylabel('ave_fam_size')\n",
    "    plt.grid(axis='y', alpha=0.5)\n",
    "    scattermedian_income.figure.savefig(f'.\\outputs\\scatterMedianIncomeVSFamilySize{state}.png')\n",
    "\n",
    "    plt.figure()\n",
    "   # scattermedian_income = dataSetUp.plot.scatter(c='DarkBlue', x='ave_fam_size', y = 'race_eth_code' )\n",
    "   # plt.title(f'scatterogram of Family Size vs Expenditure {state}')\n",
    "   # plt.xlabel('Family Size')\n",
    "   # plt.ylabel('race_eth_code')\n",
    "   # plt.grid(axis='y', alpha=0.5)\n",
    "   # scattermedian_income.figure.savefig(f'.\\outputs\\scatterFamSizeVSExpenditure{state}.png')\n",
    "   # plt.show()\n",
    "\n",
    "def trainDataset():\n",
    "    global X_train\n",
    "    global y_train\n",
    "    global X_test\n",
    "    global y_test\n",
    "    global sc\n",
    "    # Train and test with random seed\n",
    "    X_train, X_test, y_train, y_test = train_test_split(X, y, test_size=testSize, random_state=randomstate)\n",
    "\n",
    "    # Optimizing with standardScaler to minimize bias and normalize values\n",
    "    sc = StandardScaler()\n",
    "    X_train = sc.fit_transform(X_train)\n",
    "    X_test = sc.transform(X_test)\n",
    "    \n",
    "def checkforPCA():\n",
    "    pca = PCA()\n",
    "    X = dataSetUp.drop(DependentVariable, axis=1)\n",
    "    y = dataSetUp[DependentVariable]\n",
    "    x_pca = pca.fit_transform(X)\n",
    "    x_pca = pd.DataFrame(x_pca)\n",
    "    datapca = x_pca.head()\n",
    "    #print(datapca)\n",
    "    datapca.to_csv('datapca.csv')\n",
    "    display(FileLink('datapca.csv'))\n",
    "    \n",
    "def predictorImportance():\n",
    "    X = dataSetUp.drop(DependentVariable, axis=1)\n",
    "    y = dataSetUp[DependentVariable]\n",
    "    model = LogisticRegression()\n",
    "    # fit the model\n",
    "    model.fit(X, y)\n",
    "    importance = model.coef_[0]\n",
    "    # summarize feature importance\n",
    "    for i, v in enumerate(importance):\n",
    "        print('Feature: %0d, Score: %.5f' % (i, v))\n",
    "    # plot feature importance\n",
    "    pyplot.bar([x for x in range(len(importance))], importance)\n",
    "    pyplot.show()\n",
    "\n",
    "    # VIF dataframe\n",
    "def vifCheck(dataSetUp):\n",
    "    vif_data = pd.DataFrame()\n",
    "    vif_data[\"feature\"] = dataSetUp.columns\n",
    "    vif_data[\"VIF\"] = [variance_inflation_factor(dataSetUp.values, i)\n",
    "                       for i in range(len(dataSetUp.columns))]\n",
    "    print(vif_data)"
   ]
  },
  {
   "cell_type": "markdown",
   "metadata": {},
   "source": [
    "# Load Data from CSV"
   ]
  },
  {
   "cell_type": "code",
   "execution_count": 12,
   "metadata": {
    "scrolled": false
   },
   "outputs": [
    {
     "data": {
      "text/html": [
       "<a href='cleaned.csv' target='_blank'>cleaned.csv</a><br>"
      ],
      "text/plain": [
       "C:\\Project\\Capstone\\cleaned.csv"
      ]
     },
     "metadata": {},
     "output_type": "display_data"
    },
    {
     "name": "stdout",
     "output_type": "stream",
     "text": [
      "(3216, 4)\n"
     ]
    }
   ],
   "source": [
    "loadAndExtractData()"
   ]
  },
  {
   "cell_type": "markdown",
   "metadata": {},
   "source": [
    "Check for Correlation"
   ]
  },
  {
   "cell_type": "code",
   "execution_count": 13,
   "metadata": {},
   "outputs": [
    {
     "data": {
      "text/html": [
       "<div>\n",
       "<style scoped>\n",
       "    .dataframe tbody tr th:only-of-type {\n",
       "        vertical-align: middle;\n",
       "    }\n",
       "\n",
       "    .dataframe tbody tr th {\n",
       "        vertical-align: top;\n",
       "    }\n",
       "\n",
       "    .dataframe thead th {\n",
       "        text-align: right;\n",
       "    }\n",
       "</style>\n",
       "<table border=\"1\" class=\"dataframe\">\n",
       "  <thead>\n",
       "    <tr style=\"text-align: right;\">\n",
       "      <th></th>\n",
       "      <th>ind_id</th>\n",
       "      <th>race_eth_code</th>\n",
       "      <th>geotypevalue</th>\n",
       "      <th>county_fips</th>\n",
       "      <th>region_code</th>\n",
       "      <th>cost_yr</th>\n",
       "      <th>median_income</th>\n",
       "      <th>affordability_ratio</th>\n",
       "      <th>LL95_affordability_ratio</th>\n",
       "      <th>UL95_affordability_ratio</th>\n",
       "      <th>se_food_afford</th>\n",
       "      <th>rse_food_afford</th>\n",
       "      <th>CA_decile</th>\n",
       "      <th>CA_RR</th>\n",
       "      <th>ave_fam_size</th>\n",
       "    </tr>\n",
       "  </thead>\n",
       "  <tbody>\n",
       "    <tr>\n",
       "      <th>ind_id</th>\n",
       "      <td>NaN</td>\n",
       "      <td>NaN</td>\n",
       "      <td>NaN</td>\n",
       "      <td>NaN</td>\n",
       "      <td>NaN</td>\n",
       "      <td>NaN</td>\n",
       "      <td>NaN</td>\n",
       "      <td>NaN</td>\n",
       "      <td>NaN</td>\n",
       "      <td>NaN</td>\n",
       "      <td>NaN</td>\n",
       "      <td>NaN</td>\n",
       "      <td>NaN</td>\n",
       "      <td>NaN</td>\n",
       "      <td>NaN</td>\n",
       "    </tr>\n",
       "    <tr>\n",
       "      <th>race_eth_code</th>\n",
       "      <td>NaN</td>\n",
       "      <td>1.000000e+00</td>\n",
       "      <td>-9.391805e-15</td>\n",
       "      <td>-8.519700e-16</td>\n",
       "      <td>-6.967506e-16</td>\n",
       "      <td>-5.438350e-16</td>\n",
       "      <td>0.138297</td>\n",
       "      <td>-0.071037</td>\n",
       "      <td>-0.116420</td>\n",
       "      <td>-0.017629</td>\n",
       "      <td>-0.010055</td>\n",
       "      <td>-0.005043</td>\n",
       "      <td>NaN</td>\n",
       "      <td>-0.071037</td>\n",
       "      <td>-7.896376e-16</td>\n",
       "    </tr>\n",
       "    <tr>\n",
       "      <th>geotypevalue</th>\n",
       "      <td>NaN</td>\n",
       "      <td>-9.391805e-15</td>\n",
       "      <td>1.000000e+00</td>\n",
       "      <td>7.375404e-02</td>\n",
       "      <td>5.456655e-02</td>\n",
       "      <td>4.041436e-02</td>\n",
       "      <td>0.055404</td>\n",
       "      <td>0.017357</td>\n",
       "      <td>-0.045863</td>\n",
       "      <td>0.013320</td>\n",
       "      <td>0.015093</td>\n",
       "      <td>0.035105</td>\n",
       "      <td>0.005215</td>\n",
       "      <td>0.017357</td>\n",
       "      <td>3.332340e-02</td>\n",
       "    </tr>\n",
       "    <tr>\n",
       "      <th>county_fips</th>\n",
       "      <td>NaN</td>\n",
       "      <td>-8.519700e-16</td>\n",
       "      <td>7.375404e-02</td>\n",
       "      <td>1.000000e+00</td>\n",
       "      <td>1.334657e-01</td>\n",
       "      <td>-6.614141e-02</td>\n",
       "      <td>-0.027582</td>\n",
       "      <td>0.038356</td>\n",
       "      <td>-0.030209</td>\n",
       "      <td>-0.000084</td>\n",
       "      <td>0.001011</td>\n",
       "      <td>0.000977</td>\n",
       "      <td>-0.016812</td>\n",
       "      <td>0.038356</td>\n",
       "      <td>-5.812496e-02</td>\n",
       "    </tr>\n",
       "    <tr>\n",
       "      <th>region_code</th>\n",
       "      <td>NaN</td>\n",
       "      <td>-6.967506e-16</td>\n",
       "      <td>5.456655e-02</td>\n",
       "      <td>1.334657e-01</td>\n",
       "      <td>1.000000e+00</td>\n",
       "      <td>2.819352e-01</td>\n",
       "      <td>-0.081700</td>\n",
       "      <td>0.073701</td>\n",
       "      <td>0.115173</td>\n",
       "      <td>-0.001915</td>\n",
       "      <td>-0.008380</td>\n",
       "      <td>-0.040371</td>\n",
       "      <td>-0.155385</td>\n",
       "      <td>0.073701</td>\n",
       "      <td>2.176299e-01</td>\n",
       "    </tr>\n",
       "    <tr>\n",
       "      <th>cost_yr</th>\n",
       "      <td>NaN</td>\n",
       "      <td>-5.438350e-16</td>\n",
       "      <td>4.041436e-02</td>\n",
       "      <td>-6.614141e-02</td>\n",
       "      <td>2.819352e-01</td>\n",
       "      <td>1.000000e+00</td>\n",
       "      <td>-0.091045</td>\n",
       "      <td>0.135293</td>\n",
       "      <td>0.236319</td>\n",
       "      <td>-0.013880</td>\n",
       "      <td>-0.031326</td>\n",
       "      <td>-0.077389</td>\n",
       "      <td>-0.355871</td>\n",
       "      <td>0.135293</td>\n",
       "      <td>9.635995e-01</td>\n",
       "    </tr>\n",
       "    <tr>\n",
       "      <th>median_income</th>\n",
       "      <td>NaN</td>\n",
       "      <td>1.382971e-01</td>\n",
       "      <td>5.540431e-02</td>\n",
       "      <td>-2.758242e-02</td>\n",
       "      <td>-8.170001e-02</td>\n",
       "      <td>-9.104497e-02</td>\n",
       "      <td>1.000000</td>\n",
       "      <td>-0.443224</td>\n",
       "      <td>-0.301998</td>\n",
       "      <td>-0.207914</td>\n",
       "      <td>-0.168264</td>\n",
       "      <td>-0.134449</td>\n",
       "      <td>0.728487</td>\n",
       "      <td>-0.443224</td>\n",
       "      <td>-1.722281e-01</td>\n",
       "    </tr>\n",
       "    <tr>\n",
       "      <th>affordability_ratio</th>\n",
       "      <td>NaN</td>\n",
       "      <td>-7.103725e-02</td>\n",
       "      <td>1.735681e-02</td>\n",
       "      <td>3.835569e-02</td>\n",
       "      <td>7.370095e-02</td>\n",
       "      <td>1.352932e-01</td>\n",
       "      <td>-0.443224</td>\n",
       "      <td>1.000000</td>\n",
       "      <td>0.188805</td>\n",
       "      <td>0.540766</td>\n",
       "      <td>0.482920</td>\n",
       "      <td>0.337438</td>\n",
       "      <td>-0.619112</td>\n",
       "      <td>1.000000</td>\n",
       "      <td>1.797588e-01</td>\n",
       "    </tr>\n",
       "    <tr>\n",
       "      <th>LL95_affordability_ratio</th>\n",
       "      <td>NaN</td>\n",
       "      <td>-1.164198e-01</td>\n",
       "      <td>-4.586301e-02</td>\n",
       "      <td>-3.020901e-02</td>\n",
       "      <td>1.151732e-01</td>\n",
       "      <td>2.363188e-01</td>\n",
       "      <td>-0.301998</td>\n",
       "      <td>0.188805</td>\n",
       "      <td>1.000000</td>\n",
       "      <td>-0.114302</td>\n",
       "      <td>-0.134097</td>\n",
       "      <td>-0.276530</td>\n",
       "      <td>-0.404021</td>\n",
       "      <td>0.188805</td>\n",
       "      <td>2.685427e-01</td>\n",
       "    </tr>\n",
       "    <tr>\n",
       "      <th>UL95_affordability_ratio</th>\n",
       "      <td>NaN</td>\n",
       "      <td>-1.762852e-02</td>\n",
       "      <td>1.331955e-02</td>\n",
       "      <td>-8.442782e-05</td>\n",
       "      <td>-1.914618e-03</td>\n",
       "      <td>-1.388046e-02</td>\n",
       "      <td>-0.207914</td>\n",
       "      <td>0.540766</td>\n",
       "      <td>-0.114302</td>\n",
       "      <td>1.000000</td>\n",
       "      <td>0.997732</td>\n",
       "      <td>0.865031</td>\n",
       "      <td>-0.218592</td>\n",
       "      <td>0.540766</td>\n",
       "      <td>2.624772e-03</td>\n",
       "    </tr>\n",
       "    <tr>\n",
       "      <th>se_food_afford</th>\n",
       "      <td>NaN</td>\n",
       "      <td>-1.005539e-02</td>\n",
       "      <td>1.509296e-02</td>\n",
       "      <td>1.011063e-03</td>\n",
       "      <td>-8.380012e-03</td>\n",
       "      <td>-3.132648e-02</td>\n",
       "      <td>-0.168264</td>\n",
       "      <td>0.482920</td>\n",
       "      <td>-0.134097</td>\n",
       "      <td>0.997732</td>\n",
       "      <td>1.000000</td>\n",
       "      <td>0.873499</td>\n",
       "      <td>-0.175208</td>\n",
       "      <td>0.482920</td>\n",
       "      <td>-1.918185e-02</td>\n",
       "    </tr>\n",
       "    <tr>\n",
       "      <th>rse_food_afford</th>\n",
       "      <td>NaN</td>\n",
       "      <td>-5.042998e-03</td>\n",
       "      <td>3.510456e-02</td>\n",
       "      <td>9.772263e-04</td>\n",
       "      <td>-4.037071e-02</td>\n",
       "      <td>-7.738858e-02</td>\n",
       "      <td>-0.134449</td>\n",
       "      <td>0.337438</td>\n",
       "      <td>-0.276530</td>\n",
       "      <td>0.865031</td>\n",
       "      <td>0.873499</td>\n",
       "      <td>1.000000</td>\n",
       "      <td>-0.142000</td>\n",
       "      <td>0.337438</td>\n",
       "      <td>-7.239234e-02</td>\n",
       "    </tr>\n",
       "    <tr>\n",
       "      <th>CA_decile</th>\n",
       "      <td>NaN</td>\n",
       "      <td>NaN</td>\n",
       "      <td>5.215403e-03</td>\n",
       "      <td>-1.681248e-02</td>\n",
       "      <td>-1.553850e-01</td>\n",
       "      <td>-3.558709e-01</td>\n",
       "      <td>0.728487</td>\n",
       "      <td>-0.619112</td>\n",
       "      <td>-0.404021</td>\n",
       "      <td>-0.218592</td>\n",
       "      <td>-0.175208</td>\n",
       "      <td>-0.142000</td>\n",
       "      <td>1.000000</td>\n",
       "      <td>-0.619112</td>\n",
       "      <td>-4.351758e-01</td>\n",
       "    </tr>\n",
       "    <tr>\n",
       "      <th>CA_RR</th>\n",
       "      <td>NaN</td>\n",
       "      <td>-7.103724e-02</td>\n",
       "      <td>1.735681e-02</td>\n",
       "      <td>3.835569e-02</td>\n",
       "      <td>7.370095e-02</td>\n",
       "      <td>1.352932e-01</td>\n",
       "      <td>-0.443224</td>\n",
       "      <td>1.000000</td>\n",
       "      <td>0.188805</td>\n",
       "      <td>0.540766</td>\n",
       "      <td>0.482920</td>\n",
       "      <td>0.337438</td>\n",
       "      <td>-0.619112</td>\n",
       "      <td>1.000000</td>\n",
       "      <td>1.797588e-01</td>\n",
       "    </tr>\n",
       "    <tr>\n",
       "      <th>ave_fam_size</th>\n",
       "      <td>NaN</td>\n",
       "      <td>-7.896376e-16</td>\n",
       "      <td>3.332340e-02</td>\n",
       "      <td>-5.812496e-02</td>\n",
       "      <td>2.176299e-01</td>\n",
       "      <td>9.635995e-01</td>\n",
       "      <td>-0.172228</td>\n",
       "      <td>0.179759</td>\n",
       "      <td>0.268543</td>\n",
       "      <td>0.002625</td>\n",
       "      <td>-0.019182</td>\n",
       "      <td>-0.072392</td>\n",
       "      <td>-0.435176</td>\n",
       "      <td>0.179759</td>\n",
       "      <td>1.000000e+00</td>\n",
       "    </tr>\n",
       "  </tbody>\n",
       "</table>\n",
       "</div>"
      ],
      "text/plain": [
       "                          ind_id  race_eth_code  geotypevalue   county_fips  \\\n",
       "ind_id                       NaN            NaN           NaN           NaN   \n",
       "race_eth_code                NaN   1.000000e+00 -9.391805e-15 -8.519700e-16   \n",
       "geotypevalue                 NaN  -9.391805e-15  1.000000e+00  7.375404e-02   \n",
       "county_fips                  NaN  -8.519700e-16  7.375404e-02  1.000000e+00   \n",
       "region_code                  NaN  -6.967506e-16  5.456655e-02  1.334657e-01   \n",
       "cost_yr                      NaN  -5.438350e-16  4.041436e-02 -6.614141e-02   \n",
       "median_income                NaN   1.382971e-01  5.540431e-02 -2.758242e-02   \n",
       "affordability_ratio          NaN  -7.103725e-02  1.735681e-02  3.835569e-02   \n",
       "LL95_affordability_ratio     NaN  -1.164198e-01 -4.586301e-02 -3.020901e-02   \n",
       "UL95_affordability_ratio     NaN  -1.762852e-02  1.331955e-02 -8.442782e-05   \n",
       "se_food_afford               NaN  -1.005539e-02  1.509296e-02  1.011063e-03   \n",
       "rse_food_afford              NaN  -5.042998e-03  3.510456e-02  9.772263e-04   \n",
       "CA_decile                    NaN            NaN  5.215403e-03 -1.681248e-02   \n",
       "CA_RR                        NaN  -7.103724e-02  1.735681e-02  3.835569e-02   \n",
       "ave_fam_size                 NaN  -7.896376e-16  3.332340e-02 -5.812496e-02   \n",
       "\n",
       "                           region_code       cost_yr  median_income  \\\n",
       "ind_id                             NaN           NaN            NaN   \n",
       "race_eth_code            -6.967506e-16 -5.438350e-16       0.138297   \n",
       "geotypevalue              5.456655e-02  4.041436e-02       0.055404   \n",
       "county_fips               1.334657e-01 -6.614141e-02      -0.027582   \n",
       "region_code               1.000000e+00  2.819352e-01      -0.081700   \n",
       "cost_yr                   2.819352e-01  1.000000e+00      -0.091045   \n",
       "median_income            -8.170001e-02 -9.104497e-02       1.000000   \n",
       "affordability_ratio       7.370095e-02  1.352932e-01      -0.443224   \n",
       "LL95_affordability_ratio  1.151732e-01  2.363188e-01      -0.301998   \n",
       "UL95_affordability_ratio -1.914618e-03 -1.388046e-02      -0.207914   \n",
       "se_food_afford           -8.380012e-03 -3.132648e-02      -0.168264   \n",
       "rse_food_afford          -4.037071e-02 -7.738858e-02      -0.134449   \n",
       "CA_decile                -1.553850e-01 -3.558709e-01       0.728487   \n",
       "CA_RR                     7.370095e-02  1.352932e-01      -0.443224   \n",
       "ave_fam_size              2.176299e-01  9.635995e-01      -0.172228   \n",
       "\n",
       "                          affordability_ratio  LL95_affordability_ratio  \\\n",
       "ind_id                                    NaN                       NaN   \n",
       "race_eth_code                       -0.071037                 -0.116420   \n",
       "geotypevalue                         0.017357                 -0.045863   \n",
       "county_fips                          0.038356                 -0.030209   \n",
       "region_code                          0.073701                  0.115173   \n",
       "cost_yr                              0.135293                  0.236319   \n",
       "median_income                       -0.443224                 -0.301998   \n",
       "affordability_ratio                  1.000000                  0.188805   \n",
       "LL95_affordability_ratio             0.188805                  1.000000   \n",
       "UL95_affordability_ratio             0.540766                 -0.114302   \n",
       "se_food_afford                       0.482920                 -0.134097   \n",
       "rse_food_afford                      0.337438                 -0.276530   \n",
       "CA_decile                           -0.619112                 -0.404021   \n",
       "CA_RR                                1.000000                  0.188805   \n",
       "ave_fam_size                         0.179759                  0.268543   \n",
       "\n",
       "                          UL95_affordability_ratio  se_food_afford  \\\n",
       "ind_id                                         NaN             NaN   \n",
       "race_eth_code                            -0.017629       -0.010055   \n",
       "geotypevalue                              0.013320        0.015093   \n",
       "county_fips                              -0.000084        0.001011   \n",
       "region_code                              -0.001915       -0.008380   \n",
       "cost_yr                                  -0.013880       -0.031326   \n",
       "median_income                            -0.207914       -0.168264   \n",
       "affordability_ratio                       0.540766        0.482920   \n",
       "LL95_affordability_ratio                 -0.114302       -0.134097   \n",
       "UL95_affordability_ratio                  1.000000        0.997732   \n",
       "se_food_afford                            0.997732        1.000000   \n",
       "rse_food_afford                           0.865031        0.873499   \n",
       "CA_decile                                -0.218592       -0.175208   \n",
       "CA_RR                                     0.540766        0.482920   \n",
       "ave_fam_size                              0.002625       -0.019182   \n",
       "\n",
       "                          rse_food_afford  CA_decile     CA_RR  ave_fam_size  \n",
       "ind_id                                NaN        NaN       NaN           NaN  \n",
       "race_eth_code                   -0.005043        NaN -0.071037 -7.896376e-16  \n",
       "geotypevalue                     0.035105   0.005215  0.017357  3.332340e-02  \n",
       "county_fips                      0.000977  -0.016812  0.038356 -5.812496e-02  \n",
       "region_code                     -0.040371  -0.155385  0.073701  2.176299e-01  \n",
       "cost_yr                         -0.077389  -0.355871  0.135293  9.635995e-01  \n",
       "median_income                   -0.134449   0.728487 -0.443224 -1.722281e-01  \n",
       "affordability_ratio              0.337438  -0.619112  1.000000  1.797588e-01  \n",
       "LL95_affordability_ratio        -0.276530  -0.404021  0.188805  2.685427e-01  \n",
       "UL95_affordability_ratio         0.865031  -0.218592  0.540766  2.624772e-03  \n",
       "se_food_afford                   0.873499  -0.175208  0.482920 -1.918185e-02  \n",
       "rse_food_afford                  1.000000  -0.142000  0.337438 -7.239234e-02  \n",
       "CA_decile                       -0.142000   1.000000 -0.619112 -4.351758e-01  \n",
       "CA_RR                            0.337438  -0.619112  1.000000  1.797588e-01  \n",
       "ave_fam_size                    -0.072392  -0.435176  0.179759  1.000000e+00  "
      ]
     },
     "metadata": {},
     "output_type": "display_data"
    },
    {
     "data": {
      "text/html": [
       "<a href='dataout.csv' target='_blank'>dataout.csv</a><br>"
      ],
      "text/plain": [
       "C:\\Project\\Capstone\\dataout.csv"
      ]
     },
     "metadata": {},
     "output_type": "display_data"
    }
   ],
   "source": [
    "display(datasetupUnprocessed.corr())\n",
    "dataout = datasetupUnprocessed.corr()\n",
    "\n",
    "dataout.to_csv('dataout.csv')\n",
    "display(FileLink('dataout.csv'))"
   ]
  },
  {
   "cell_type": "markdown",
   "metadata": {},
   "source": [
    "check for PCA"
   ]
  },
  {
   "cell_type": "code",
   "execution_count": 14,
   "metadata": {},
   "outputs": [
    {
     "data": {
      "text/html": [
       "<a href='datapca.csv' target='_blank'>datapca.csv</a><br>"
      ],
      "text/plain": [
       "C:\\Project\\Capstone\\datapca.csv"
      ]
     },
     "metadata": {},
     "output_type": "display_data"
    }
   ],
   "source": [
    "checkforPCA()"
   ]
  },
  {
   "cell_type": "markdown",
   "metadata": {},
   "source": [
    "# Print Info"
   ]
  },
  {
   "cell_type": "code",
   "execution_count": 9,
   "metadata": {
    "scrolled": false
   },
   "outputs": [
    {
     "name": "stdout",
     "output_type": "stream",
     "text": [
      "showing head 15 values\n",
      "    ind_id                                     ind_definition reportyear  \\\n",
      "0      757  Food affordability for female-headed household...  2006-2010   \n",
      "1      757  Food affordability for female-headed household...  2006-2010   \n",
      "2      757  Food affordability for female-headed household...  2006-2010   \n",
      "3      757  Food affordability for female-headed household...  2006-2010   \n",
      "4      757  Food affordability for female-headed household...  2006-2010   \n",
      "5      757  Food affordability for female-headed household...  2006-2010   \n",
      "6      757  Food affordability for female-headed household...  2006-2010   \n",
      "7      757  Food affordability for female-headed household...  2006-2010   \n",
      "8      757  Food affordability for female-headed household...  2006-2010   \n",
      "9      757  Food affordability for female-headed household...  2006-2010   \n",
      "10     757  Food affordability for female-headed household...  2006-2010   \n",
      "11     757  Food affordability for female-headed household...  2006-2010   \n",
      "12     757  Food affordability for female-headed household...  2006-2010   \n",
      "13     757  Food affordability for female-headed household...  2006-2010   \n",
      "14     757  Food affordability for female-headed household...  2006-2010   \n",
      "\n",
      "    race_eth_code race_eth_name geotype  geotypevalue     geoname county_name  \\\n",
      "0               1          AIAN      CA             6  California         NaN   \n",
      "1               1         Asian      CA             6  California         NaN   \n",
      "2               1     AfricanAm      CA             6  California         NaN   \n",
      "3               1        Latino      CA             6  California         NaN   \n",
      "4               1         NHOPI      CA             6  California         NaN   \n",
      "5               2         White      CA             6  California         NaN   \n",
      "6               1      Multiple      CA             6  California         NaN   \n",
      "7               1         Other      CA             6  California         NaN   \n",
      "8               1         Total      CA             6  California         NaN   \n",
      "9               1          AIAN      CO          6001     Alameda     Alameda   \n",
      "10              1         Asian      CO          6001     Alameda     Alameda   \n",
      "11              1     AfricanAm      CO          6001     Alameda     Alameda   \n",
      "12              1        Latino      CO          6001     Alameda     Alameda   \n",
      "13              1         NHOPI      CO          6001     Alameda     Alameda   \n",
      "14              2         White      CO          6001     Alameda     Alameda   \n",
      "\n",
      "    county_fips  ... median_income  affordability_ratio  \\\n",
      "0           NaN  ...       23777.0             0.315779   \n",
      "1           NaN  ...       38508.0             0.194980   \n",
      "2           NaN  ...       26192.0             0.286664   \n",
      "3           NaN  ...       22858.0             0.328475   \n",
      "4           NaN  ...       36737.0             0.204379   \n",
      "5           NaN  ...       38641.0             0.194309   \n",
      "6           NaN  ...       32866.0             0.228452   \n",
      "7           NaN  ...       30439.0             0.246667   \n",
      "8           NaN  ...       28184.0             0.266403   \n",
      "9        6001.0  ...       16063.0             0.450857   \n",
      "10       6001.0  ...       42048.0             0.172235   \n",
      "11       6001.0  ...       23858.0             0.303551   \n",
      "12       6001.0  ...       28917.0             0.250445   \n",
      "13       6001.0  ...       35238.0             0.205520   \n",
      "14       6001.0  ...       50497.0             0.143417   \n",
      "\n",
      "    LL95_affordability_ratio  UL95_affordability_ratio  se_food_afford  \\\n",
      "0                   0.231517                  0.400043        0.042991   \n",
      "1                   0.183065                  0.206895        0.006079   \n",
      "2                   0.279661                  0.293666        0.003573   \n",
      "3                   0.322637                  0.334314        0.002979   \n",
      "4                   0.173762                  0.234997        0.015621   \n",
      "5                   0.189570                  0.199048        0.002418   \n",
      "6                   0.210008                  0.246896        0.009410   \n",
      "7                   0.176559                  0.316775        0.035769   \n",
      "8                   0.262832                  0.269973        0.001821   \n",
      "9                   0.087869                  0.813846        0.185198   \n",
      "10                  0.121394                  0.223075        0.025939   \n",
      "11                  0.266850                  0.340253        0.018725   \n",
      "12                  0.214028                  0.286862        0.018580   \n",
      "13                  0.124903                  0.286138        0.041131   \n",
      "14                  0.134053                  0.152780        0.004777   \n",
      "\n",
      "    rse_food_afford  CA_decile     CA_RR  ave_fam_size         version  \n",
      "0         13.614342        NaN  1.185347          3.34  4/12/2013 4:33  \n",
      "1          3.117814        NaN  0.731900          3.34  4/12/2013 4:33  \n",
      "2          1.246349        NaN  1.076054          3.34  4/12/2013 4:33  \n",
      "3          0.906881        NaN  1.233004          3.34  4/12/2013 4:33  \n",
      "4          7.643255        NaN  0.767183          3.34  4/12/2013 4:33  \n",
      "5          1.244406        NaN  0.729381          3.34  4/12/2013 4:33  \n",
      "6          4.119149        NaN  0.857543          3.34  4/12/2013 4:33  \n",
      "7         14.501074        NaN  0.925917          3.34  4/12/2013 4:33  \n",
      "8          0.683740        NaN  1.000000          3.34  4/12/2013 4:33  \n",
      "9         41.076862        NaN  1.692392          3.21  4/12/2013 4:33  \n",
      "10        15.060224        NaN  0.646520          3.21  4/12/2013 4:33  \n",
      "11         6.168717        NaN  1.139445          3.21  4/12/2013 4:33  \n",
      "12         7.418781        NaN  0.940101          3.21  4/12/2013 4:33  \n",
      "13        20.013280        NaN  0.771465          3.21  4/12/2013 4:33  \n",
      "14         3.331023        NaN  0.538346          3.21  4/12/2013 4:33  \n",
      "\n",
      "[15 rows x 23 columns]\n",
      "**********\n",
      "Showing info of dataset\n",
      "         ind_id                                     ind_definition reportyear  \\\n",
      "count   14364.0                                              14364      14364   \n",
      "unique      NaN                                                  1          1   \n",
      "top         NaN  Food affordability for female-headed household...  2006-2010   \n",
      "freq        NaN                                              14364      14364   \n",
      "mean      757.0                                                NaN        NaN   \n",
      "std         0.0                                                NaN        NaN   \n",
      "min       757.0                                                NaN        NaN   \n",
      "25%       757.0                                                NaN        NaN   \n",
      "50%       757.0                                                NaN        NaN   \n",
      "75%       757.0                                                NaN        NaN   \n",
      "max       757.0                                                NaN        NaN   \n",
      "\n",
      "        race_eth_code race_eth_name geotype  geotypevalue          geoname  \\\n",
      "count    14364.000000         14364   14364  14364.000000            14364   \n",
      "unique            NaN             9       4           NaN             1581   \n",
      "top               NaN          AIAN      PL           NaN  San Luis Obispo   \n",
      "freq              NaN          1596   13707           NaN               18   \n",
      "mean         1.111111           NaN     NaN  40680.393484              NaN   \n",
      "std          0.314281           NaN     NaN  25834.492705              NaN   \n",
      "min          1.000000           NaN     NaN      1.000000              NaN   \n",
      "25%          1.000000           NaN     NaN  17480.500000              NaN   \n",
      "50%          1.000000           NaN     NaN  40382.000000              NaN   \n",
      "75%          1.000000           NaN     NaN  60609.500000              NaN   \n",
      "max          2.000000           NaN     NaN  87090.000000              NaN   \n",
      "\n",
      "        county_name   county_fips  ...  median_income  affordability_ratio  \\\n",
      "count         14229  14229.000000  ...    3473.000000          3473.000000   \n",
      "unique           58           NaN  ...            NaN                  NaN   \n",
      "top     Los Angeles           NaN  ...            NaN                  NaN   \n",
      "freq           1278           NaN  ...            NaN                  NaN   \n",
      "mean            NaN   6057.977862  ...   35985.685081             0.357114   \n",
      "std             NaN     31.048709  ...   27436.558125             0.451169   \n",
      "min             NaN   6001.000000  ...    2500.000000             0.021258   \n",
      "25%             NaN   6035.000000  ...   20219.000000             0.158028   \n",
      "50%             NaN   6059.000000  ...   30371.000000             0.245429   \n",
      "75%             NaN   6083.000000  ...   44083.000000             0.381940   \n",
      "max             NaN   6115.000000  ...  250000.000000             4.852371   \n",
      "\n",
      "        LL95_affordability_ratio  UL95_affordability_ratio  se_food_afford  \\\n",
      "count                3285.000000               3285.000000     3285.000000   \n",
      "unique                       NaN                       NaN             NaN   \n",
      "top                          NaN                       NaN             NaN   \n",
      "freq                         NaN                       NaN             NaN   \n",
      "mean                    0.105307                  0.882108        0.295230   \n",
      "std                     0.117439                  3.200605        1.568641   \n",
      "min                     0.000000                  0.041421        0.000903   \n",
      "25%                     0.000000                  0.239877        0.029374   \n",
      "50%                     0.077821                  0.381348        0.063821   \n",
      "75%                     0.165909                  0.658876        0.154163   \n",
      "max                     0.850556                108.783721       54.965397   \n",
      "\n",
      "        rse_food_afford   CA_decile        CA_RR  ave_fam_size         version  \n",
      "count       3285.000000  960.000000  3473.000000  12096.000000           14364  \n",
      "unique              NaN         NaN          NaN           NaN               1  \n",
      "top                 NaN         NaN          NaN           NaN  4/12/2013 4:33  \n",
      "freq                NaN         NaN          NaN           NaN           14364  \n",
      "mean          59.221472    5.500000     1.340507      3.175714             NaN  \n",
      "std          139.191814    2.873778     1.693561      0.762813             NaN  \n",
      "min            0.683740    1.000000     0.079797      1.360000             NaN  \n",
      "25%           14.351806    3.000000     0.593193      2.660000             NaN  \n",
      "50%           30.083705    5.500000     0.921273      3.130000             NaN  \n",
      "75%           61.209242    8.000000     1.433696      3.550000             NaN  \n",
      "max         5227.123987   10.000000    18.214432      7.200000             NaN  \n",
      "\n",
      "[11 rows x 23 columns]\n"
     ]
    }
   ],
   "source": [
    "showDataHeadAndInfo(datasetupUnprocessed,head_Value)"
   ]
  },
  {
   "cell_type": "markdown",
   "metadata": {},
   "source": [
    "# Exploratory plotting"
   ]
  },
  {
   "cell_type": "code",
   "execution_count": 10,
   "metadata": {
    "scrolled": false
   },
   "outputs": [
    {
     "data": {
      "image/png": "[encoded data removed]",
      "text/plain": [
       "<Figure size 576x396 with 1 Axes>"
      ]
     },
     "metadata": {},
     "output_type": "display_data"
    },
    {
     "data": {
      "image/png": "[encoded data removed]",
      "text/plain": [
       "<Figure size 576x396 with 1 Axes>"
      ]
     },
     "metadata": {},
     "output_type": "display_data"
    },
    {
     "data": {
      "image/png": "[encoded data removed]",
      "text/plain": [
       "<Figure size 576x396 with 1 Axes>"
      ]
     },
     "metadata": {},
     "output_type": "display_data"
    },
    {
     "data": {
      "text/plain": [
       "<Figure size 576x396 with 0 Axes>"
      ]
     },
     "metadata": {},
     "output_type": "display_data"
    },
    {
     "data": {
      "image/png": "[encoded data removed]",
      "text/plain": [
       "<Figure size 576x396 with 1 Axes>"
      ]
     },
     "metadata": {},
     "output_type": "display_data"
    },
    {
     "data": {
      "text/plain": [
       "<Figure size 576x396 with 0 Axes>"
      ]
     },
     "metadata": {},
     "output_type": "display_data"
    }
   ],
   "source": [
    "plotting(datasetupUnprocessed , \"BeforeProcessing\")"
   ]
  },
  {
   "cell_type": "markdown",
   "metadata": {},
   "source": [
    "# preProcessing"
   ]
  },
  {
   "cell_type": "code",
   "execution_count": 11,
   "metadata": {
    "scrolled": false
   },
   "outputs": [
    {
     "name": "stdout",
     "output_type": "stream",
     "text": [
      "0    1997\n",
      "1    1219\n",
      "Name: affordability_ratio, dtype: int64\n",
      "showing head 15 values\n",
      "    race_eth_code  median_income  affordability_ratio  ave_fam_size\n",
      "0               1        23777.0                    0          3.34\n",
      "1               1        38508.0                    1          3.34\n",
      "2               1        26192.0                    0          3.34\n",
      "3               1        22858.0                    0          3.34\n",
      "4               1        36737.0                    0          3.34\n",
      "5               2        38641.0                    1          3.34\n",
      "6               1        32866.0                    0          3.34\n",
      "7               1        30439.0                    0          3.34\n",
      "8               1        28184.0                    0          3.34\n",
      "9               1        16063.0                    0          3.21\n",
      "10              1        42048.0                    1          3.21\n",
      "11              1        23858.0                    0          3.21\n",
      "12              1        28917.0                    0          3.21\n",
      "13              1        35238.0                    0          3.21\n",
      "14              2        50497.0                    1          3.21\n",
      "**********\n",
      "Showing info of dataset\n",
      "       race_eth_code  median_income  affordability_ratio  ave_fam_size\n",
      "count    3216.000000    3216.000000          3216.000000   3216.000000\n",
      "mean        1.240983   34809.645833             0.379042      3.220725\n",
      "std         0.427746   19849.167081             0.485224      0.474311\n",
      "min         1.000000    2500.000000             0.000000      1.940000\n",
      "25%         1.000000   20740.500000             0.000000      2.900000\n",
      "50%         1.000000   30801.000000             0.000000      3.220000\n",
      "75%         1.000000   44216.500000             1.000000      3.500000\n",
      "max         2.000000  119342.000000             1.000000      4.790000\n"
     ]
    }
   ],
   "source": [
    "preProcessing()\n",
    "showDataHeadAndInfo(dataSetUp,head_Value)\n"
   ]
  },
  {
   "cell_type": "markdown",
   "metadata": {},
   "source": [
    "# Plotting post Cleanup"
   ]
  },
  {
   "cell_type": "code",
   "execution_count": 12,
   "metadata": {
    "scrolled": false
   },
   "outputs": [
    {
     "data": {
      "image/png": "[encoded data removed]",
      "text/plain": [
       "<Figure size 576x396 with 1 Axes>"
      ]
     },
     "metadata": {},
     "output_type": "display_data"
    },
    {
     "data": {
      "image/png": "[encoded data removed]",
      "text/plain": [
       "<Figure size 576x396 with 1 Axes>"
      ]
     },
     "metadata": {},
     "output_type": "display_data"
    },
    {
     "data": {
      "image/png": "[encoded data removed]",
      "text/plain": [
       "<Figure size 576x396 with 1 Axes>"
      ]
     },
     "metadata": {},
     "output_type": "display_data"
    },
    {
     "data": {
      "text/plain": [
       "<Figure size 576x396 with 0 Axes>"
      ]
     },
     "metadata": {},
     "output_type": "display_data"
    },
    {
     "data": {
      "image/png": "[encoded data removed]",
      "text/plain": [
       "<Figure size 576x396 with 1 Axes>"
      ]
     },
     "metadata": {},
     "output_type": "display_data"
    },
    {
     "data": {
      "text/plain": [
       "<Figure size 576x396 with 0 Axes>"
      ]
     },
     "metadata": {},
     "output_type": "display_data"
    }
   ],
   "source": [
    "plotting(dataSetUp, \"PostProcessing\")"
   ]
  },
  {
   "cell_type": "markdown",
   "metadata": {},
   "source": [
    "Check Corellation"
   ]
  },
  {
   "cell_type": "code",
   "execution_count": 14,
   "metadata": {
    "scrolled": false
   },
   "outputs": [
    {
     "data": {
      "text/html": [
       "<div>\n",
       "<style scoped>\n",
       "    .dataframe tbody tr th:only-of-type {\n",
       "        vertical-align: middle;\n",
       "    }\n",
       "\n",
       "    .dataframe tbody tr th {\n",
       "        vertical-align: top;\n",
       "    }\n",
       "\n",
       "    .dataframe thead th {\n",
       "        text-align: right;\n",
       "    }\n",
       "</style>\n",
       "<table border=\"1\" class=\"dataframe\">\n",
       "  <thead>\n",
       "    <tr style=\"text-align: right;\">\n",
       "      <th></th>\n",
       "      <th>race_eth_code</th>\n",
       "      <th>median_income</th>\n",
       "      <th>affordability_ratio</th>\n",
       "      <th>ave_fam_size</th>\n",
       "    </tr>\n",
       "  </thead>\n",
       "  <tbody>\n",
       "    <tr>\n",
       "      <th>race_eth_code</th>\n",
       "      <td>1.000000</td>\n",
       "      <td>0.154860</td>\n",
       "      <td>0.183194</td>\n",
       "      <td>-0.119783</td>\n",
       "    </tr>\n",
       "    <tr>\n",
       "      <th>median_income</th>\n",
       "      <td>0.154860</td>\n",
       "      <td>1.000000</td>\n",
       "      <td>0.762884</td>\n",
       "      <td>-0.208589</td>\n",
       "    </tr>\n",
       "    <tr>\n",
       "      <th>affordability_ratio</th>\n",
       "      <td>0.183194</td>\n",
       "      <td>0.762884</td>\n",
       "      <td>1.000000</td>\n",
       "      <td>-0.357839</td>\n",
       "    </tr>\n",
       "    <tr>\n",
       "      <th>ave_fam_size</th>\n",
       "      <td>-0.119783</td>\n",
       "      <td>-0.208589</td>\n",
       "      <td>-0.357839</td>\n",
       "      <td>1.000000</td>\n",
       "    </tr>\n",
       "  </tbody>\n",
       "</table>\n",
       "</div>"
      ],
      "text/plain": [
       "                     race_eth_code  median_income  affordability_ratio  \\\n",
       "race_eth_code             1.000000       0.154860             0.183194   \n",
       "median_income             0.154860       1.000000             0.762884   \n",
       "affordability_ratio       0.183194       0.762884             1.000000   \n",
       "ave_fam_size             -0.119783      -0.208589            -0.357839   \n",
       "\n",
       "                     ave_fam_size  \n",
       "race_eth_code           -0.119783  \n",
       "median_income           -0.208589  \n",
       "affordability_ratio     -0.357839  \n",
       "ave_fam_size             1.000000  "
      ]
     },
     "execution_count": 14,
     "metadata": {},
     "output_type": "execute_result"
    }
   ],
   "source": [
    "dataSetUp.corr()"
   ]
  },
  {
   "cell_type": "markdown",
   "metadata": {},
   "source": [
    "# Check VIF"
   ]
  },
  {
   "cell_type": "code",
   "execution_count": 15,
   "metadata": {
    "scrolled": false
   },
   "outputs": [
    {
     "name": "stdout",
     "output_type": "stream",
     "text": [
      "               feature       VIF\n",
      "0        race_eth_code  8.337837\n",
      "1        median_income  9.762107\n",
      "2  affordability_ratio  4.203646\n",
      "3         ave_fam_size  9.716444\n"
     ]
    }
   ],
   "source": [
    "vifCheck(dataSetUp)"
   ]
  },
  {
   "cell_type": "markdown",
   "metadata": {},
   "source": [
    "# Predictor Importance"
   ]
  },
  {
   "cell_type": "code",
   "execution_count": 16,
   "metadata": {
    "scrolled": false
   },
   "outputs": [
    {
     "name": "stdout",
     "output_type": "stream",
     "text": [
      "Feature: 0, Score: 0.43403\n",
      "Feature: 1, Score: 0.00072\n",
      "Feature: 2, Score: -7.86347\n"
     ]
    },
    {
     "data": {
      "image/png": "[encoded data removed]",
      "text/plain": [
       "<Figure size 576x396 with 1 Axes>"
      ]
     },
     "metadata": {},
     "output_type": "display_data"
    }
   ],
   "source": [
    "predictorImportance()"
   ]
  },
  {
   "cell_type": "markdown",
   "metadata": {},
   "source": [
    "# seperate dependent and independent variables"
   ]
  },
  {
   "cell_type": "code",
   "execution_count": 17,
   "metadata": {
    "scrolled": false
   },
   "outputs": [],
   "source": [
    "X = dataSetUp.drop(DependentVariable, axis=1)\n",
    "y = dataSetUp[DependentVariable]"
   ]
  },
  {
   "cell_type": "markdown",
   "metadata": {},
   "source": [
    "# Pearsons Analysis"
   ]
  },
  {
   "cell_type": "code",
   "execution_count": 18,
   "metadata": {
    "scrolled": false
   },
   "outputs": [
    {
     "data": {
      "image/png": "[encoded data removed]",
      "text/plain": [
       "<Figure size 576x396 with 2 Axes>"
      ]
     },
     "metadata": {},
     "output_type": "display_data"
    },
    {
     "data": {
      "text/plain": [
       "<AxesSubplot:title={'center':'Pearson Ranking of 3 Features'}>"
      ]
     },
     "execution_count": 18,
     "metadata": {},
     "output_type": "execute_result"
    }
   ],
   "source": [
    "visualizer = Rank2D(algorithm='pearson')\n",
    "visualizer.fit(X, y)\n",
    "visualizer.transform(X)\n",
    "visualizer.show()"
   ]
  },
  {
   "cell_type": "markdown",
   "metadata": {},
   "source": [
    "# ClassBalance "
   ]
  },
  {
   "cell_type": "code",
   "execution_count": null,
   "metadata": {
    "scrolled": false
   },
   "outputs": [],
   "source": [
    "visualizer = ClassBalance(labels=[\"Cant Afford\", \"Can Afford\"])\n",
    "visualizer.fit(y)        # Fit the data to the visualizer\n",
    "visualizer.show()        # Finalize and render the figure"
   ]
  },
  {
   "cell_type": "markdown",
   "metadata": {},
   "source": [
    "# Split Dataset into train and test dataset"
   ]
  },
  {
   "cell_type": "code",
   "execution_count": null,
   "metadata": {
    "scrolled": false
   },
   "outputs": [],
   "source": [
    "trainDataset()"
   ]
  },
  {
   "cell_type": "markdown",
   "metadata": {},
   "source": [
    "# Create a dict of models to use"
   ]
  },
  {
   "cell_type": "code",
   "execution_count": null,
   "metadata": {
    "scrolled": false
   },
   "outputs": [],
   "source": [
    "dict_classifiers = {\n",
    "    \"rfc\": RandomForestClassifier(n_estimators=200),\n",
    "    \"clf\": svm.SVC(),\n",
    "    \"mlpc\": MLPClassifier(hidden_layer_sizes=(11, 11, 11), max_iter=500,  random_state=1),\n",
    "    \"lr\": LogisticRegression(),\n",
    "}"
   ]
  },
  {
   "cell_type": "markdown",
   "metadata": {},
   "source": [
    "# Train and Print Details"
   ]
  },
  {
   "cell_type": "code",
   "execution_count": null,
   "metadata": {
    "scrolled": false
   },
   "outputs": [],
   "source": [
    "for model, model_instantiation in dict_classifiers.items():\n",
    "    model = model_instantiation\n",
    "    model.fit(X_train, y_train)\n",
    "    y_score = model.predict(X_test)\n",
    "    # yellow brick\n",
    "    cm = ConfusionMatrix(model, classes=[0,1])\n",
    "    cm.fit(X_train, y_train)\n",
    "    cm.score(X_test, y_test)\n",
    "    cm.show()\n",
    "    confusion_Matrix = confusion_matrix(y_test, y_score)\n",
    "    cm = accuracy_score(y_test, y_score)\n",
    "    print(f\"Printing Model details for : {model}\\n\"\n",
    "          f\"Printing Confusion Matrix\\n{confusion_Matrix}\\n\"\n",
    "          f\"Printing Classification Report\\n {classification_report(y_test, y_score)}\\n\"\n",
    "          f\"****\\n\"\n",
    "          f\"End of Model\\n\"\n",
    "          f\"****\\n\")"
   ]
  }
 ],
 "metadata": {
  "kernelspec": {
   "display_name": "Python 3",
   "language": "python",
   "name": "python3"
  },
  "language_info": {
   "codemirror_mode": {
    "name": "ipython",
    "version": 3
   },
   "file_extension": ".py",
   "mimetype": "text/x-python",
   "name": "python",
   "nbconvert_exporter": "python",
   "pygments_lexer": "ipython3",
   "version": "3.9.0"
  }
 },
 "nbformat": 4,
 "nbformat_minor": 1
}
